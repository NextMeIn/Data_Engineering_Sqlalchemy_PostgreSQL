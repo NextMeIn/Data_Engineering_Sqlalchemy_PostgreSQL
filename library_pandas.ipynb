{
 "cells": [
  {
   "cell_type": "code",
   "execution_count": 1,
   "metadata": {},
   "outputs": [],
   "source": [
    "import pandas as pd"
   ]
  },
  {
   "cell_type": "code",
   "execution_count": 2,
   "metadata": {},
   "outputs": [],
   "source": [
    "url = 'https://en.wikipedia.org/wiki/List_of_Toronto_Public_Library_branches'"
   ]
  },
  {
   "cell_type": "code",
   "execution_count": 7,
   "metadata": {},
   "outputs": [
    {
     "data": {
      "text/plain": [
       "[                          Name            Neighbourhood     Opened   Built  \\\n",
       " 0                    Agincourt                Agincourt       1918  1991.0   \n",
       " 1              Albert Campbell     Scarborough Junction       1971  1971.0   \n",
       " 2                       Albion               Smithfield       1965  1973.0   \n",
       " 3                    Alderwood                Alderwood       1958  1999.0   \n",
       " 4                Amesbury Park                 Amesbury       1967  1967.0   \n",
       " 5               Annette Street             The Junction       1888  1909.0   \n",
       " 6               Armour Heights           Armour Heights       1982  1982.0   \n",
       " 7                 Barbara Frum           Lawrence Manor       1992  1992.0   \n",
       " 8                      Bayview          Bayview Village       1966  2002.0   \n",
       " 9                      Beaches              The Beaches       1914  1916.0   \n",
       " 10                     Bendale                  Bendale       1834  1961.0   \n",
       " 11                 Black Creek                Downsview       1968  2002.0   \n",
       " 12             Bloor/Gladstone           Dufferin Grove       1911  1911.0   \n",
       " 13                   Brentwood             The Kingsway       1955  1955.0   \n",
       " 14                  Bridlewood               L'Amoreaux       1976  1992.0   \n",
       " 15                  Brookbanks                Parkwoods       1968  1968.0   \n",
       " 16                Burrows Hall                  Malvern       1998  1998.0   \n",
       " 17                   Cedarbrae                   Woburn       1966  1966.0   \n",
       " 18                  Centennial                  Branson       1966  1966.0   \n",
       " 19             Central Library    University of Toronto  1909–1977  1909.0   \n",
       " 20                   City Hall                 Downtown       1965  1965.0   \n",
       " 21                  Cliffcrest               Cliffcrest       1972  2008.0   \n",
       " 22                College/Shaw             Little Italy       1984  1984.0   \n",
       " 23            Danforth/Coxwell            East Danforth       1989  1989.0   \n",
       " 24                   Davenport                Davenport       1988  1988.0   \n",
       " 25                  Dawes Road        O'Connor-Parkview       1976  1976.0   \n",
       " 26                   Deer Park                Deer Park       1905  1952.0   \n",
       " 27                   Don Mills                Don Mills       1961  1961.0   \n",
       " 28                   Downsview                Downsview       1962  1962.0   \n",
       " 29             Downtown Branch                 Downtown  1928–1965     NaN   \n",
       " ..                         ...                      ...        ...     ...   \n",
       " 74                  Parliament              Cabbagetown       1955  1969.0   \n",
       " 75                Perth/Dupont   West Junction Triangle       1977  1983.0   \n",
       " 76               Pleasant View            Pleasant View       1975  1975.0   \n",
       " 77                  Port Union               Port Union       1974  1984.0   \n",
       " 78               Queen/Saulter                Riverside       1979  1980.0   \n",
       " 79                     Rexdale                  Rexdale       1959  1959.0   \n",
       " 80                    Richview                 Richview       1966  1966.0   \n",
       " 81                   Riverdale                Riverdale       1888  1910.0   \n",
       " 82                   Runnymede       Bloor West Village       1904  1930.0   \n",
       " 83           S. Walter Stewart            Old East York       1950  1960.0   \n",
       " 84                   Sanderson           Alexandra Park       1968  1968.0   \n",
       " 85    Scarborough Civic Centre  Scarborough City Centre       2015  2015.0   \n",
       " 86                Spadina Road                The Annex       1977  1977.0   \n",
       " 87       St. Clair/Silverthorn             The Junction       1981  1981.0   \n",
       " 88              St. James Town           St. James Town       2004  2004.0   \n",
       " 89                St. Lawrence             St. Lawrence       1982  1982.0   \n",
       " 90                     Steeles                  Steeles       1987  1987.0   \n",
       " 91            Swansea Memorial                  Swansea       1923  1959.0   \n",
       " 92             Taylor Memorial              Birch Cliff       1962  1985.0   \n",
       " 93                 Thorncliffe         Thorncliffe Park       1961  1970.0   \n",
       " 94              Todmorden Room             Pape Village       1961  1961.0   \n",
       " 95   Toronto Reference Library                Yorkville       1977  1977.0   \n",
       " 96               Urban Affairs         Downtown Toronto       1911  1992.0   \n",
       " 97            Victoria Village    Victoria Park Village       1967  1967.0   \n",
       " 98                      Weston                   Weston       1858  1914.0   \n",
       " 99             Woodside Square                Agincourt       1977  1977.0   \n",
       " 100              Woodview Park                    Emery       1964  1964.0   \n",
       " 101                   Wychwood          Bracondale Hill       1880  1916.0   \n",
       " 102                 York Woods           Jane and Finch       1970  1970.0   \n",
       " 103                  Yorkville                Yorkville       1884  1907.0   \n",
       " \n",
       "     Collection size                                              Notes  Image  \n",
       " 0            176367  Originally the Agincourt Association Library f...    NaN  \n",
       " 1            120658  Named after Albert Campbell; operated as Alber...    NaN  \n",
       " 2            133268                                                NaN    NaN  \n",
       " 3             49830                                                NaN    NaN  \n",
       " 4             39287                                                NaN    NaN  \n",
       " 5             39083                                   Carnegie library    NaN  \n",
       " 6             26528                                                NaN    NaN  \n",
       " 7            138657  Replaced Bathurst Heights Regional Library. Na...    NaN  \n",
       " 8             43145             Inside Bayview Village Shopping Centre    NaN  \n",
       " 9             54089                  Carnegie library built in 1916[1]    NaN  \n",
       " 10            38957  Founded as the Scarboro' Subscription Library ...    NaN  \n",
       " 11            32052            Located in the North York Sheridan Mall    NaN  \n",
       " 12            59825                 Reopened after renovations in 2009    NaN  \n",
       " 13            97432         Etobicoke's main library from 1955 to 1966    NaN  \n",
       " 14            59472                                 At Bridlewood Mall    NaN  \n",
       " 15            49023                                                NaN    NaN  \n",
       " 16            53137                                                NaN    NaN  \n",
       " 17           158760  operated as Cederbrae District Branch prior to...    NaN  \n",
       " 18            36360                                                NaN    NaN  \n",
       " 19              NaN  Ontario's largest Carnegie library, it served ...    NaN  \n",
       " 20            36683                           Inside Toronto City Hall    NaN  \n",
       " 21            30087                                                NaN    NaN  \n",
       " 22            37123                                                NaN    NaN  \n",
       " 23            52136                                                NaN    NaN  \n",
       " 24            15971                                                NaN    NaN  \n",
       " 25            48472                   Replaced Woodbine Gardens branch    NaN  \n",
       " 26            74088                                                NaN    NaN  \n",
       " 27           128059                                                NaN    NaN  \n",
       " 28            83604                                                NaN    NaN  \n",
       " 29              NaN  First located at Old City Hall 1911, 42 Adelai...    NaN  \n",
       " ..              ...                                                ...    ...  \n",
       " 74            60663                                                NaN    NaN  \n",
       " 75            23003                                                NaN    NaN  \n",
       " 76            40413                                                NaN    NaN  \n",
       " 77            41474                                                NaN    NaN  \n",
       " 78            19523             In the Ralph Thornton Community Centre    NaN  \n",
       " 79            35431                                                NaN    NaN  \n",
       " 80           198928                                                NaN    NaN  \n",
       " 81            68221                                   Carnegie library    NaN  \n",
       " 82            73075                           Designed by John M. Lyle    NaN  \n",
       " 83            97466  Named after S. Walter Stewart, first chair of ...    NaN  \n",
       " 84            64914  Named in honour of chief librarian Charles San...    NaN  \n",
       " 85            40000                            Newest branch in system    NaN  \n",
       " 86            42573                                                NaN    NaN  \n",
       " 87            21007  Was featured in the opening credits of the for...    NaN  \n",
       " 88            59802                                                NaN    NaN  \n",
       " 89            29617                                                NaN    NaN  \n",
       " 90            48086                          At Bamburgh Gardens Plaza    NaN  \n",
       " 91            10049                                                NaN    NaN  \n",
       " 92            29687  Named after Florence Nightingale Taylor, wife ...    NaN  \n",
       " 93            41752                                                NaN    NaN  \n",
       " 94             8874                                                NaN    NaN  \n",
       " 95          1653665     The largest public reference library in Canada    NaN  \n",
       " 96           346650  Previously located at Metro Hall, the branch w...    NaN  \n",
       " 97            30504                                                NaN    NaN  \n",
       " 98            43686                                   Carnegie library    NaN  \n",
       " 99            66076  At Woodside Square Mall. Relocated from former...    NaN  \n",
       " 100           23130                                                NaN    NaN  \n",
       " 101           51433                                   Carnegie library    NaN  \n",
       " 102          120199                                                NaN    NaN  \n",
       " 103           62240                                   Carnegie library    NaN  \n",
       " \n",
       " [104 rows x 7 columns]]"
      ]
     },
     "execution_count": 7,
     "metadata": {},
     "output_type": "execute_result"
    }
   ],
   "source": [
    "tables = pd.read_html(url)\n",
    "tables"
   ]
  },
  {
   "cell_type": "code",
   "execution_count": 8,
   "metadata": {},
   "outputs": [
    {
     "data": {
      "text/plain": [
       "list"
      ]
     },
     "execution_count": 8,
     "metadata": {},
     "output_type": "execute_result"
    }
   ],
   "source": [
    "type(tables)"
   ]
  },
  {
   "cell_type": "code",
   "execution_count": 11,
   "metadata": {},
   "outputs": [
    {
     "data": {
      "text/html": [
       "<div>\n",
       "<style scoped>\n",
       "    .dataframe tbody tr th:only-of-type {\n",
       "        vertical-align: middle;\n",
       "    }\n",
       "\n",
       "    .dataframe tbody tr th {\n",
       "        vertical-align: top;\n",
       "    }\n",
       "\n",
       "    .dataframe thead th {\n",
       "        text-align: right;\n",
       "    }\n",
       "</style>\n",
       "<table border=\"1\" class=\"dataframe\">\n",
       "  <thead>\n",
       "    <tr style=\"text-align: right;\">\n",
       "      <th></th>\n",
       "      <th>Name</th>\n",
       "      <th>Neighbourhood</th>\n",
       "      <th>Opened</th>\n",
       "      <th>Built</th>\n",
       "      <th>Collection size</th>\n",
       "      <th>Notes</th>\n",
       "      <th>Image</th>\n",
       "    </tr>\n",
       "  </thead>\n",
       "  <tbody>\n",
       "    <tr>\n",
       "      <th>0</th>\n",
       "      <td>Agincourt</td>\n",
       "      <td>Agincourt</td>\n",
       "      <td>1918</td>\n",
       "      <td>1991.0</td>\n",
       "      <td>176367</td>\n",
       "      <td>Originally the Agincourt Association Library f...</td>\n",
       "      <td>NaN</td>\n",
       "    </tr>\n",
       "    <tr>\n",
       "      <th>1</th>\n",
       "      <td>Albert Campbell</td>\n",
       "      <td>Scarborough Junction</td>\n",
       "      <td>1971</td>\n",
       "      <td>1971.0</td>\n",
       "      <td>120658</td>\n",
       "      <td>Named after Albert Campbell; operated as Alber...</td>\n",
       "      <td>NaN</td>\n",
       "    </tr>\n",
       "    <tr>\n",
       "      <th>2</th>\n",
       "      <td>Albion</td>\n",
       "      <td>Smithfield</td>\n",
       "      <td>1965</td>\n",
       "      <td>1973.0</td>\n",
       "      <td>133268</td>\n",
       "      <td>NaN</td>\n",
       "      <td>NaN</td>\n",
       "    </tr>\n",
       "    <tr>\n",
       "      <th>3</th>\n",
       "      <td>Alderwood</td>\n",
       "      <td>Alderwood</td>\n",
       "      <td>1958</td>\n",
       "      <td>1999.0</td>\n",
       "      <td>49830</td>\n",
       "      <td>NaN</td>\n",
       "      <td>NaN</td>\n",
       "    </tr>\n",
       "    <tr>\n",
       "      <th>4</th>\n",
       "      <td>Amesbury Park</td>\n",
       "      <td>Amesbury</td>\n",
       "      <td>1967</td>\n",
       "      <td>1967.0</td>\n",
       "      <td>39287</td>\n",
       "      <td>NaN</td>\n",
       "      <td>NaN</td>\n",
       "    </tr>\n",
       "  </tbody>\n",
       "</table>\n",
       "</div>"
      ],
      "text/plain": [
       "              Name         Neighbourhood Opened   Built Collection size  \\\n",
       "0        Agincourt             Agincourt   1918  1991.0          176367   \n",
       "1  Albert Campbell  Scarborough Junction   1971  1971.0          120658   \n",
       "2           Albion            Smithfield   1965  1973.0          133268   \n",
       "3        Alderwood             Alderwood   1958  1999.0           49830   \n",
       "4    Amesbury Park              Amesbury   1967  1967.0           39287   \n",
       "\n",
       "                                               Notes  Image  \n",
       "0  Originally the Agincourt Association Library f...    NaN  \n",
       "1  Named after Albert Campbell; operated as Alber...    NaN  \n",
       "2                                                NaN    NaN  \n",
       "3                                                NaN    NaN  \n",
       "4                                                NaN    NaN  "
      ]
     },
     "execution_count": 11,
     "metadata": {},
     "output_type": "execute_result"
    }
   ],
   "source": [
    "df = tables[0]\n",
    "df.columns = ['Name', 'Neighbourhood', 'Opened', 'Built','Collection size','Notes','Image']\n",
    "df.head()"
   ]
  },
  {
   "cell_type": "code",
   "execution_count": 12,
   "metadata": {},
   "outputs": [
    {
     "data": {
      "text/html": [
       "<div>\n",
       "<style scoped>\n",
       "    .dataframe tbody tr th:only-of-type {\n",
       "        vertical-align: middle;\n",
       "    }\n",
       "\n",
       "    .dataframe tbody tr th {\n",
       "        vertical-align: top;\n",
       "    }\n",
       "\n",
       "    .dataframe thead th {\n",
       "        text-align: right;\n",
       "    }\n",
       "</style>\n",
       "<table border=\"1\" class=\"dataframe\">\n",
       "  <thead>\n",
       "    <tr style=\"text-align: right;\">\n",
       "      <th></th>\n",
       "      <th>Neighbourhood</th>\n",
       "      <th>Opened</th>\n",
       "      <th>Built</th>\n",
       "      <th>Collection size</th>\n",
       "      <th>Notes</th>\n",
       "      <th>Image</th>\n",
       "    </tr>\n",
       "    <tr>\n",
       "      <th>Name</th>\n",
       "      <th></th>\n",
       "      <th></th>\n",
       "      <th></th>\n",
       "      <th></th>\n",
       "      <th></th>\n",
       "      <th></th>\n",
       "    </tr>\n",
       "  </thead>\n",
       "  <tbody>\n",
       "    <tr>\n",
       "      <th>Agincourt</th>\n",
       "      <td>Agincourt</td>\n",
       "      <td>1918</td>\n",
       "      <td>1991.0</td>\n",
       "      <td>176367</td>\n",
       "      <td>Originally the Agincourt Association Library f...</td>\n",
       "      <td>NaN</td>\n",
       "    </tr>\n",
       "    <tr>\n",
       "      <th>Albert Campbell</th>\n",
       "      <td>Scarborough Junction</td>\n",
       "      <td>1971</td>\n",
       "      <td>1971.0</td>\n",
       "      <td>120658</td>\n",
       "      <td>Named after Albert Campbell; operated as Alber...</td>\n",
       "      <td>NaN</td>\n",
       "    </tr>\n",
       "    <tr>\n",
       "      <th>Albion</th>\n",
       "      <td>Smithfield</td>\n",
       "      <td>1965</td>\n",
       "      <td>1973.0</td>\n",
       "      <td>133268</td>\n",
       "      <td>NaN</td>\n",
       "      <td>NaN</td>\n",
       "    </tr>\n",
       "    <tr>\n",
       "      <th>Alderwood</th>\n",
       "      <td>Alderwood</td>\n",
       "      <td>1958</td>\n",
       "      <td>1999.0</td>\n",
       "      <td>49830</td>\n",
       "      <td>NaN</td>\n",
       "      <td>NaN</td>\n",
       "    </tr>\n",
       "    <tr>\n",
       "      <th>Amesbury Park</th>\n",
       "      <td>Amesbury</td>\n",
       "      <td>1967</td>\n",
       "      <td>1967.0</td>\n",
       "      <td>39287</td>\n",
       "      <td>NaN</td>\n",
       "      <td>NaN</td>\n",
       "    </tr>\n",
       "  </tbody>\n",
       "</table>\n",
       "</div>"
      ],
      "text/plain": [
       "                        Neighbourhood Opened   Built Collection size  \\\n",
       "Name                                                                   \n",
       "Agincourt                   Agincourt   1918  1991.0          176367   \n",
       "Albert Campbell  Scarborough Junction   1971  1971.0          120658   \n",
       "Albion                     Smithfield   1965  1973.0          133268   \n",
       "Alderwood                   Alderwood   1958  1999.0           49830   \n",
       "Amesbury Park                Amesbury   1967  1967.0           39287   \n",
       "\n",
       "                                                             Notes  Image  \n",
       "Name                                                                       \n",
       "Agincourt        Originally the Agincourt Association Library f...    NaN  \n",
       "Albert Campbell  Named after Albert Campbell; operated as Alber...    NaN  \n",
       "Albion                                                         NaN    NaN  \n",
       "Alderwood                                                      NaN    NaN  \n",
       "Amesbury Park                                                  NaN    NaN  "
      ]
     },
     "execution_count": 12,
     "metadata": {},
     "output_type": "execute_result"
    }
   ],
   "source": [
    "df.set_index('Name', inplace=True)\n",
    "df.head()"
   ]
  },
  {
   "cell_type": "code",
   "execution_count": 13,
   "metadata": {},
   "outputs": [
    {
     "data": {
      "text/plain": [
       "'<table border=\"1\" class=\"dataframe\">\\n  <thead>\\n    <tr style=\"text-align: right;\">\\n      <th></th>\\n      <th>Neighbourhood</th>\\n      <th>Opened</th>\\n      <th>Built</th>\\n      <th>Collection size</th>\\n      <th>Notes</th>\\n      <th>Image</th>\\n    </tr>\\n    <tr>\\n      <th>Name</th>\\n      <th></th>\\n      <th></th>\\n      <th></th>\\n      <th></th>\\n      <th></th>\\n      <th></th>\\n    </tr>\\n  </thead>\\n  <tbody>\\n    <tr>\\n      <th>Agincourt</th>\\n      <td>Agincourt</td>\\n      <td>1918</td>\\n      <td>1991.0</td>\\n      <td>176367</td>\\n      <td>Originally the Agincourt Association Library f...</td>\\n      <td>NaN</td>\\n    </tr>\\n    <tr>\\n      <th>Albert Campbell</th>\\n      <td>Scarborough Junction</td>\\n      <td>1971</td>\\n      <td>1971.0</td>\\n      <td>120658</td>\\n      <td>Named after Albert Campbell; operated as Alber...</td>\\n      <td>NaN</td>\\n    </tr>\\n    <tr>\\n      <th>Albion</th>\\n      <td>Smithfield</td>\\n      <td>1965</td>\\n      <td>1973.0</td>\\n      <td>133268</td>\\n      <td>NaN</td>\\n      <td>NaN</td>\\n    </tr>\\n    <tr>\\n      <th>Alderwood</th>\\n      <td>Alderwood</td>\\n      <td>1958</td>\\n      <td>1999.0</td>\\n      <td>49830</td>\\n      <td>NaN</td>\\n      <td>NaN</td>\\n    </tr>\\n    <tr>\\n      <th>Amesbury Park</th>\\n      <td>Amesbury</td>\\n      <td>1967</td>\\n      <td>1967.0</td>\\n      <td>39287</td>\\n      <td>NaN</td>\\n      <td>NaN</td>\\n    </tr>\\n    <tr>\\n      <th>Annette Street</th>\\n      <td>The Junction</td>\\n      <td>1888</td>\\n      <td>1909.0</td>\\n      <td>39083</td>\\n      <td>Carnegie library</td>\\n      <td>NaN</td>\\n    </tr>\\n    <tr>\\n      <th>Armour Heights</th>\\n      <td>Armour Heights</td>\\n      <td>1982</td>\\n      <td>1982.0</td>\\n      <td>26528</td>\\n      <td>NaN</td>\\n      <td>NaN</td>\\n    </tr>\\n    <tr>\\n      <th>Barbara Frum</th>\\n      <td>Lawrence Manor</td>\\n      <td>1992</td>\\n      <td>1992.0</td>\\n      <td>138657</td>\\n      <td>Replaced Bathurst Heights Regional Library. Na...</td>\\n      <td>NaN</td>\\n    </tr>\\n    <tr>\\n      <th>Bayview</th>\\n      <td>Bayview Village</td>\\n      <td>1966</td>\\n      <td>2002.0</td>\\n      <td>43145</td>\\n      <td>Inside Bayview Village Shopping Centre</td>\\n      <td>NaN</td>\\n    </tr>\\n    <tr>\\n      <th>Beaches</th>\\n      <td>The Beaches</td>\\n      <td>1914</td>\\n      <td>1916.0</td>\\n      <td>54089</td>\\n      <td>Carnegie library built in 1916[1]</td>\\n      <td>NaN</td>\\n    </tr>\\n    <tr>\\n      <th>Bendale</th>\\n      <td>Bendale</td>\\n      <td>1834</td>\\n      <td>1961.0</td>\\n      <td>38957</td>\\n      <td>Founded as the Scarboro\\' Subscription Library ...</td>\\n      <td>NaN</td>\\n    </tr>\\n    <tr>\\n      <th>Black Creek</th>\\n      <td>Downsview</td>\\n      <td>1968</td>\\n      <td>2002.0</td>\\n      <td>32052</td>\\n      <td>Located in the North York Sheridan Mall</td>\\n      <td>NaN</td>\\n    </tr>\\n    <tr>\\n      <th>Bloor/Gladstone</th>\\n      <td>Dufferin Grove</td>\\n      <td>1911</td>\\n      <td>1911.0</td>\\n      <td>59825</td>\\n      <td>Reopened after renovations in 2009</td>\\n      <td>NaN</td>\\n    </tr>\\n    <tr>\\n      <th>Brentwood</th>\\n      <td>The Kingsway</td>\\n      <td>1955</td>\\n      <td>1955.0</td>\\n      <td>97432</td>\\n      <td>Etobicoke\\'s main library from 1955 to 1966</td>\\n      <td>NaN</td>\\n    </tr>\\n    <tr>\\n      <th>Bridlewood</th>\\n      <td>L\\'Amoreaux</td>\\n      <td>1976</td>\\n      <td>1992.0</td>\\n      <td>59472</td>\\n      <td>At Bridlewood Mall</td>\\n      <td>NaN</td>\\n    </tr>\\n    <tr>\\n      <th>Brookbanks</th>\\n      <td>Parkwoods</td>\\n      <td>1968</td>\\n      <td>1968.0</td>\\n      <td>49023</td>\\n      <td>NaN</td>\\n      <td>NaN</td>\\n    </tr>\\n    <tr>\\n      <th>Burrows Hall</th>\\n      <td>Malvern</td>\\n      <td>1998</td>\\n      <td>1998.0</td>\\n      <td>53137</td>\\n      <td>NaN</td>\\n      <td>NaN</td>\\n    </tr>\\n    <tr>\\n      <th>Cedarbrae</th>\\n      <td>Woburn</td>\\n      <td>1966</td>\\n      <td>1966.0</td>\\n      <td>158760</td>\\n      <td>operated as Cederbrae District Branch prior to...</td>\\n      <td>NaN</td>\\n    </tr>\\n    <tr>\\n      <th>Centennial</th>\\n      <td>Branson</td>\\n      <td>1966</td>\\n      <td>1966.0</td>\\n      <td>36360</td>\\n      <td>NaN</td>\\n      <td>NaN</td>\\n    </tr>\\n    <tr>\\n      <th>Central Library</th>\\n      <td>University of Toronto</td>\\n      <td>1909–1977</td>\\n      <td>1909.0</td>\\n      <td>NaN</td>\\n      <td>Ontario\\'s largest Carnegie library, it served ...</td>\\n      <td>NaN</td>\\n    </tr>\\n    <tr>\\n      <th>City Hall</th>\\n      <td>Downtown</td>\\n      <td>1965</td>\\n      <td>1965.0</td>\\n      <td>36683</td>\\n      <td>Inside Toronto City Hall</td>\\n      <td>NaN</td>\\n    </tr>\\n    <tr>\\n      <th>Cliffcrest</th>\\n      <td>Cliffcrest</td>\\n      <td>1972</td>\\n      <td>2008.0</td>\\n      <td>30087</td>\\n      <td>NaN</td>\\n      <td>NaN</td>\\n    </tr>\\n    <tr>\\n      <th>College/Shaw</th>\\n      <td>Little Italy</td>\\n      <td>1984</td>\\n      <td>1984.0</td>\\n      <td>37123</td>\\n      <td>NaN</td>\\n      <td>NaN</td>\\n    </tr>\\n    <tr>\\n      <th>Danforth/Coxwell</th>\\n      <td>East Danforth</td>\\n      <td>1989</td>\\n      <td>1989.0</td>\\n      <td>52136</td>\\n      <td>NaN</td>\\n      <td>NaN</td>\\n    </tr>\\n    <tr>\\n      <th>Davenport</th>\\n      <td>Davenport</td>\\n      <td>1988</td>\\n      <td>1988.0</td>\\n      <td>15971</td>\\n      <td>NaN</td>\\n      <td>NaN</td>\\n    </tr>\\n    <tr>\\n      <th>Dawes Road</th>\\n      <td>O\\'Connor-Parkview</td>\\n      <td>1976</td>\\n      <td>1976.0</td>\\n      <td>48472</td>\\n      <td>Replaced Woodbine Gardens branch</td>\\n      <td>NaN</td>\\n    </tr>\\n    <tr>\\n      <th>Deer Park</th>\\n      <td>Deer Park</td>\\n      <td>1905</td>\\n      <td>1952.0</td>\\n      <td>74088</td>\\n      <td>NaN</td>\\n      <td>NaN</td>\\n    </tr>\\n    <tr>\\n      <th>Don Mills</th>\\n      <td>Don Mills</td>\\n      <td>1961</td>\\n      <td>1961.0</td>\\n      <td>128059</td>\\n      <td>NaN</td>\\n      <td>NaN</td>\\n    </tr>\\n    <tr>\\n      <th>Downsview</th>\\n      <td>Downsview</td>\\n      <td>1962</td>\\n      <td>1962.0</td>\\n      <td>83604</td>\\n      <td>NaN</td>\\n      <td>NaN</td>\\n    </tr>\\n    <tr>\\n      <th>Downtown Branch</th>\\n      <td>Downtown</td>\\n      <td>1928–1965</td>\\n      <td>NaN</td>\\n      <td>NaN</td>\\n      <td>First located at Old City Hall 1911, 42 Adelai...</td>\\n      <td>NaN</td>\\n    </tr>\\n    <tr>\\n      <th>Dufferin/St. Clair</th>\\n      <td>Corso Italia</td>\\n      <td>1921</td>\\n      <td>1921.0</td>\\n      <td>38883</td>\\n      <td>NaN</td>\\n      <td>NaN</td>\\n    </tr>\\n    <tr>\\n      <th>Eatonville</th>\\n      <td>Eatonville</td>\\n      <td>1964</td>\\n      <td>1964.0</td>\\n      <td>73786</td>\\n      <td>NaN</td>\\n      <td>NaN</td>\\n    </tr>\\n    <tr>\\n      <th>Eglinton Square</th>\\n      <td>Golden Mile</td>\\n      <td>1955</td>\\n      <td>1965.0</td>\\n      <td>44306</td>\\n      <td>In Eglinton Square shopping mall</td>\\n      <td>NaN</td>\\n    </tr>\\n    <tr>\\n      <th>Elmbrook Park</th>\\n      <td>Eringate</td>\\n      <td>1988</td>\\n      <td>1988.0</td>\\n      <td>35929</td>\\n      <td>NaN</td>\\n      <td>NaN</td>\\n    </tr>\\n    <tr>\\n      <th>Evelyn Gregory</th>\\n      <td>Silverthorn</td>\\n      <td>1968</td>\\n      <td>1968.0</td>\\n      <td>42632</td>\\n      <td>Named in honour of York Public Library Chief L...</td>\\n      <td>NaN</td>\\n    </tr>\\n    <tr>\\n      <th>Fairview</th>\\n      <td>Don Valley Village</td>\\n      <td>1972</td>\\n      <td>1976.0</td>\\n      <td>218432</td>\\n      <td>Adjacent to Fairview Mall</td>\\n      <td>NaN</td>\\n    </tr>\\n    <tr>\\n      <th>Flemingdon Park</th>\\n      <td>Flemingdon Park</td>\\n      <td>1981</td>\\n      <td>1981.0</td>\\n      <td>48177</td>\\n      <td>NaN</td>\\n      <td>NaN</td>\\n    </tr>\\n    <tr>\\n      <th>Forest Hill</th>\\n      <td>Forest Hill</td>\\n      <td>1955</td>\\n      <td>1962.0</td>\\n      <td>56398</td>\\n      <td>NaN</td>\\n      <td>NaN</td>\\n    </tr>\\n    <tr>\\n      <th>Fort York</th>\\n      <td>CityPlace</td>\\n      <td>2014[2]</td>\\n      <td>2013.0</td>\\n      <td>-</td>\\n      <td>NaN</td>\\n      <td>NaN</td>\\n    </tr>\\n    <tr>\\n      <th>Gerrard/Ashdale</th>\\n      <td>Little India</td>\\n      <td>1924</td>\\n      <td>1924.0</td>\\n      <td>52172</td>\\n      <td>NaN</td>\\n      <td>NaN</td>\\n    </tr>\\n    <tr>\\n      <th>Goldhawk Park</th>\\n      <td>Milliken</td>\\n      <td>1992</td>\\n      <td>1992.0</td>\\n      <td>58182</td>\\n      <td>NaN</td>\\n      <td>NaN</td>\\n    </tr>\\n    <tr>\\n      <th>Guildwood</th>\\n      <td>Guildwood</td>\\n      <td>1974</td>\\n      <td>1974.0</td>\\n      <td>30034</td>\\n      <td>NaN</td>\\n      <td>NaN</td>\\n    </tr>\\n    <tr>\\n      <th>High Park</th>\\n      <td>Roncesvalles</td>\\n      <td>1916</td>\\n      <td>1916.0</td>\\n      <td>55794</td>\\n      <td>Carnegie library</td>\\n      <td>NaN</td>\\n    </tr>\\n    <tr>\\n      <th>Highland Creek</th>\\n      <td>Highland Creek</td>\\n      <td>1889</td>\\n      <td>1994.0</td>\\n      <td>45712</td>\\n      <td>Founded as the Highland Creek Mechanics\\' Insti...</td>\\n      <td>NaN</td>\\n    </tr>\\n    <tr>\\n      <th>Hillcrest</th>\\n      <td>Hillcrest Village</td>\\n      <td>1975</td>\\n      <td>1975.0</td>\\n      <td>48104</td>\\n      <td>NaN</td>\\n      <td>NaN</td>\\n    </tr>\\n    <tr>\\n      <th>Humber Bay</th>\\n      <td>Humber Bay</td>\\n      <td>1925</td>\\n      <td>1951.0</td>\\n      <td>29517</td>\\n      <td>Etobicoke Public Library headquarters 1951-1955</td>\\n      <td>NaN</td>\\n    </tr>\\n    <tr>\\n      <th>Humberwood</th>\\n      <td>Humberwood</td>\\n      <td>1996</td>\\n      <td>1996.0</td>\\n      <td>39652</td>\\n      <td>NaN</td>\\n      <td>NaN</td>\\n    </tr>\\n    <tr>\\n      <th>Humber Summit</th>\\n      <td>Humber Summit</td>\\n      <td>1974</td>\\n      <td>1974.0</td>\\n      <td>24225</td>\\n      <td>NaN</td>\\n      <td>NaN</td>\\n    </tr>\\n    <tr>\\n      <th>Jane/Dundas</th>\\n      <td>Runnymede</td>\\n      <td>1951</td>\\n      <td>1975.0</td>\\n      <td>46429</td>\\n      <td>NaN</td>\\n      <td>NaN</td>\\n    </tr>\\n    <tr>\\n      <th>Jane/Sheppard</th>\\n      <td>Downsview</td>\\n      <td>1989</td>\\n      <td>2009.0</td>\\n      <td>31668</td>\\n      <td>NaN</td>\\n      <td>NaN</td>\\n    </tr>\\n    <tr>\\n      <th>Jones</th>\\n      <td>Leslieville</td>\\n      <td>1962</td>\\n      <td>1962.0</td>\\n      <td>33290</td>\\n      <td>NaN</td>\\n      <td>NaN</td>\\n    </tr>\\n    <tr>\\n      <th>Kennedy/Eglinton</th>\\n      <td>Ionview</td>\\n      <td>1988</td>\\n      <td>1988.0</td>\\n      <td>34331</td>\\n      <td>In Liberty Square Shopping Plaza</td>\\n      <td>NaN</td>\\n    </tr>\\n    <tr>\\n      <th>Leaside</th>\\n      <td>Leaside</td>\\n      <td>1944</td>\\n      <td>1950.0</td>\\n      <td>60607</td>\\n      <td>NaN</td>\\n      <td>NaN</td>\\n    </tr>\\n    <tr>\\n      <th>Lillian H. Smith</th>\\n      <td>Grange Park</td>\\n      <td>1922</td>\\n      <td>1995.0</td>\\n      <td>122412</td>\\n      <td>Originally the Boys &amp; Girls House. Focus on ch...</td>\\n      <td>NaN</td>\\n    </tr>\\n    <tr>\\n      <th>Locke</th>\\n      <td>Lawrence Park</td>\\n      <td>1949</td>\\n      <td>1949.0</td>\\n      <td>70804</td>\\n      <td>Named after chief librarian George Locke</td>\\n      <td>NaN</td>\\n    </tr>\\n    <tr>\\n      <th>Long Branch</th>\\n      <td>Long Branch</td>\\n      <td>1944</td>\\n      <td>1954.0</td>\\n      <td>34305</td>\\n      <td>NaN</td>\\n      <td>NaN</td>\\n    </tr>\\n    <tr>\\n      <th>Main Street</th>\\n      <td>Upper Beaches</td>\\n      <td>1903</td>\\n      <td>1921.0</td>\\n      <td>44279</td>\\n      <td>NaN</td>\\n      <td>NaN</td>\\n    </tr>\\n    <tr>\\n      <th>Malvern</th>\\n      <td>Malvern</td>\\n      <td>1982</td>\\n      <td>1982.0</td>\\n      <td>149256</td>\\n      <td>NaN</td>\\n      <td>NaN</td>\\n    </tr>\\n    <tr>\\n      <th>Maria A. Shchuka</th>\\n      <td>Fairbank</td>\\n      <td>1951</td>\\n      <td>1951.0</td>\\n      <td>106228</td>\\n      <td>Named after Maria A. Shchuka, York Head Librar...</td>\\n      <td>NaN</td>\\n    </tr>\\n    <tr>\\n      <th>Maryvale</th>\\n      <td>Maryvale</td>\\n      <td>1982</td>\\n      <td>1982.0</td>\\n      <td>52793</td>\\n      <td>At Parkway Mall</td>\\n      <td>NaN</td>\\n    </tr>\\n    <tr>\\n      <th>McGregor Park</th>\\n      <td>Dorset Park</td>\\n      <td>1960</td>\\n      <td>2004.0</td>\\n      <td>43994</td>\\n      <td>NaN</td>\\n      <td>NaN</td>\\n    </tr>\\n    <tr>\\n      <th>Mechanics\\' Institute</th>\\n      <td>Downtown</td>\\n      <td>1883–1927</td>\\n      <td>1853.0</td>\\n      <td>NaN</td>\\n      <td>Served as the first home of the Toronto Public...</td>\\n      <td>NaN</td>\\n    </tr>\\n    <tr>\\n      <th>Mimico Centennial</th>\\n      <td>Mimico</td>\\n      <td>1915</td>\\n      <td>1966.0</td>\\n      <td>48591</td>\\n      <td>Original was a Carnegie library, but was demol...</td>\\n      <td>NaN</td>\\n    </tr>\\n    <tr>\\n      <th>Morningside</th>\\n      <td>West Hill, Toronto</td>\\n      <td>1968</td>\\n      <td>2006.0</td>\\n      <td>47530</td>\\n      <td>NaN</td>\\n      <td>NaN</td>\\n    </tr>\\n    <tr>\\n      <th>Mount Dennis</th>\\n      <td>Mount Dennis</td>\\n      <td>1923</td>\\n      <td>1951.0</td>\\n      <td>46982</td>\\n      <td>NaN</td>\\n      <td>NaN</td>\\n    </tr>\\n    <tr>\\n      <th>Mount Pleasant</th>\\n      <td>Davisville Village</td>\\n      <td>1992</td>\\n      <td>1992.0</td>\\n      <td>19654</td>\\n      <td>NaN</td>\\n      <td>NaN</td>\\n    </tr>\\n    <tr>\\n      <th>New Toronto</th>\\n      <td>New Toronto</td>\\n      <td>1921</td>\\n      <td>1994.0</td>\\n      <td>40427</td>\\n      <td>NaN</td>\\n      <td>NaN</td>\\n    </tr>\\n    <tr>\\n      <th>North York Central Library</th>\\n      <td>North York Centre</td>\\n      <td>1959</td>\\n      <td>1987.0</td>\\n      <td>542218</td>\\n      <td>NaN</td>\\n      <td>NaN</td>\\n    </tr>\\n    <tr>\\n      <th>Northern District</th>\\n      <td>North Toronto</td>\\n      <td>1909</td>\\n      <td>1975.0</td>\\n      <td>177153</td>\\n      <td>Re-opened after renovation in February 2011</td>\\n      <td>NaN</td>\\n    </tr>\\n    <tr>\\n      <th>Northern Elms</th>\\n      <td>Rexdale</td>\\n      <td>1991</td>\\n      <td>2005.0</td>\\n      <td>24983</td>\\n      <td>NaN</td>\\n      <td>NaN</td>\\n    </tr>\\n    <tr>\\n      <th>Oakwood Village Library</th>\\n      <td>Oakwood</td>\\n      <td>1997</td>\\n      <td>1997.0</td>\\n      <td>37647</td>\\n      <td>NaN</td>\\n      <td>NaN</td>\\n    </tr>\\n    <tr>\\n      <th>Palmerston</th>\\n      <td>Seaton Village</td>\\n      <td>1971</td>\\n      <td>1971.0</td>\\n      <td>39802</td>\\n      <td>NaN</td>\\n      <td>NaN</td>\\n    </tr>\\n    <tr>\\n      <th>Pape/Danforth</th>\\n      <td>The Danforth</td>\\n      <td>1929</td>\\n      <td>1929.0</td>\\n      <td>64490</td>\\n      <td>NaN</td>\\n      <td>NaN</td>\\n    </tr>\\n    <tr>\\n      <th>Parkdale</th>\\n      <td>Parkdale, Toronto</td>\\n      <td>1881</td>\\n      <td>1964.0</td>\\n      <td>74065</td>\\n      <td>NaN</td>\\n      <td>NaN</td>\\n    </tr>\\n    <tr>\\n      <th>Parliament</th>\\n      <td>Cabbagetown</td>\\n      <td>1955</td>\\n      <td>1969.0</td>\\n      <td>60663</td>\\n      <td>NaN</td>\\n      <td>NaN</td>\\n    </tr>\\n    <tr>\\n      <th>Perth/Dupont</th>\\n      <td>West Junction Triangle</td>\\n      <td>1977</td>\\n      <td>1983.0</td>\\n      <td>23003</td>\\n      <td>NaN</td>\\n      <td>NaN</td>\\n    </tr>\\n    <tr>\\n      <th>Pleasant View</th>\\n      <td>Pleasant View</td>\\n      <td>1975</td>\\n      <td>1975.0</td>\\n      <td>40413</td>\\n      <td>NaN</td>\\n      <td>NaN</td>\\n    </tr>\\n    <tr>\\n      <th>Port Union</th>\\n      <td>Port Union</td>\\n      <td>1974</td>\\n      <td>1984.0</td>\\n      <td>41474</td>\\n      <td>NaN</td>\\n      <td>NaN</td>\\n    </tr>\\n    <tr>\\n      <th>Queen/Saulter</th>\\n      <td>Riverside</td>\\n      <td>1979</td>\\n      <td>1980.0</td>\\n      <td>19523</td>\\n      <td>In the Ralph Thornton Community Centre</td>\\n      <td>NaN</td>\\n    </tr>\\n    <tr>\\n      <th>Rexdale</th>\\n      <td>Rexdale</td>\\n      <td>1959</td>\\n      <td>1959.0</td>\\n      <td>35431</td>\\n      <td>NaN</td>\\n      <td>NaN</td>\\n    </tr>\\n    <tr>\\n      <th>Richview</th>\\n      <td>Richview</td>\\n      <td>1966</td>\\n      <td>1966.0</td>\\n      <td>198928</td>\\n      <td>NaN</td>\\n      <td>NaN</td>\\n    </tr>\\n    <tr>\\n      <th>Riverdale</th>\\n      <td>Riverdale</td>\\n      <td>1888</td>\\n      <td>1910.0</td>\\n      <td>68221</td>\\n      <td>Carnegie library</td>\\n      <td>NaN</td>\\n    </tr>\\n    <tr>\\n      <th>Runnymede</th>\\n      <td>Bloor West Village</td>\\n      <td>1904</td>\\n      <td>1930.0</td>\\n      <td>73075</td>\\n      <td>Designed by John M. Lyle</td>\\n      <td>NaN</td>\\n    </tr>\\n    <tr>\\n      <th>S. Walter Stewart</th>\\n      <td>Old East York</td>\\n      <td>1950</td>\\n      <td>1960.0</td>\\n      <td>97466</td>\\n      <td>Named after S. Walter Stewart, first chair of ...</td>\\n      <td>NaN</td>\\n    </tr>\\n    <tr>\\n      <th>Sanderson</th>\\n      <td>Alexandra Park</td>\\n      <td>1968</td>\\n      <td>1968.0</td>\\n      <td>64914</td>\\n      <td>Named in honour of chief librarian Charles San...</td>\\n      <td>NaN</td>\\n    </tr>\\n    <tr>\\n      <th>Scarborough Civic Centre</th>\\n      <td>Scarborough City Centre</td>\\n      <td>2015</td>\\n      <td>2015.0</td>\\n      <td>40000</td>\\n      <td>Newest branch in system</td>\\n      <td>NaN</td>\\n    </tr>\\n    <tr>\\n      <th>Spadina Road</th>\\n      <td>The Annex</td>\\n      <td>1977</td>\\n      <td>1977.0</td>\\n      <td>42573</td>\\n      <td>NaN</td>\\n      <td>NaN</td>\\n    </tr>\\n    <tr>\\n      <th>St. Clair/Silverthorn</th>\\n      <td>The Junction</td>\\n      <td>1981</td>\\n      <td>1981.0</td>\\n      <td>21007</td>\\n      <td>Was featured in the opening credits of the for...</td>\\n      <td>NaN</td>\\n    </tr>\\n    <tr>\\n      <th>St. James Town</th>\\n      <td>St. James Town</td>\\n      <td>2004</td>\\n      <td>2004.0</td>\\n      <td>59802</td>\\n      <td>NaN</td>\\n      <td>NaN</td>\\n    </tr>\\n    <tr>\\n      <th>St. Lawrence</th>\\n      <td>St. Lawrence</td>\\n      <td>1982</td>\\n      <td>1982.0</td>\\n      <td>29617</td>\\n      <td>NaN</td>\\n      <td>NaN</td>\\n    </tr>\\n    <tr>\\n      <th>Steeles</th>\\n      <td>Steeles</td>\\n      <td>1987</td>\\n      <td>1987.0</td>\\n      <td>48086</td>\\n      <td>At Bamburgh Gardens Plaza</td>\\n      <td>NaN</td>\\n    </tr>\\n    <tr>\\n      <th>Swansea Memorial</th>\\n      <td>Swansea</td>\\n      <td>1923</td>\\n      <td>1959.0</td>\\n      <td>10049</td>\\n      <td>NaN</td>\\n      <td>NaN</td>\\n    </tr>\\n    <tr>\\n      <th>Taylor Memorial</th>\\n      <td>Birch Cliff</td>\\n      <td>1962</td>\\n      <td>1985.0</td>\\n      <td>29687</td>\\n      <td>Named after Florence Nightingale Taylor, wife ...</td>\\n      <td>NaN</td>\\n    </tr>\\n    <tr>\\n      <th>Thorncliffe</th>\\n      <td>Thorncliffe Park</td>\\n      <td>1961</td>\\n      <td>1970.0</td>\\n      <td>41752</td>\\n      <td>NaN</td>\\n      <td>NaN</td>\\n    </tr>\\n    <tr>\\n      <th>Todmorden Room</th>\\n      <td>Pape Village</td>\\n      <td>1961</td>\\n      <td>1961.0</td>\\n      <td>8874</td>\\n      <td>NaN</td>\\n      <td>NaN</td>\\n    </tr>\\n    <tr>\\n      <th>Toronto Reference Library</th>\\n      <td>Yorkville</td>\\n      <td>1977</td>\\n      <td>1977.0</td>\\n      <td>1653665</td>\\n      <td>The largest public reference library in Canada</td>\\n      <td>NaN</td>\\n    </tr>\\n    <tr>\\n      <th>Urban Affairs</th>\\n      <td>Downtown Toronto</td>\\n      <td>1911</td>\\n      <td>1992.0</td>\\n      <td>346650</td>\\n      <td>Previously located at Metro Hall, the branch w...</td>\\n      <td>NaN</td>\\n    </tr>\\n    <tr>\\n      <th>Victoria Village</th>\\n      <td>Victoria Park Village</td>\\n      <td>1967</td>\\n      <td>1967.0</td>\\n      <td>30504</td>\\n      <td>NaN</td>\\n      <td>NaN</td>\\n    </tr>\\n    <tr>\\n      <th>Weston</th>\\n      <td>Weston</td>\\n      <td>1858</td>\\n      <td>1914.0</td>\\n      <td>43686</td>\\n      <td>Carnegie library</td>\\n      <td>NaN</td>\\n    </tr>\\n    <tr>\\n      <th>Woodside Square</th>\\n      <td>Agincourt</td>\\n      <td>1977</td>\\n      <td>1977.0</td>\\n      <td>66076</td>\\n      <td>At Woodside Square Mall. Relocated from former...</td>\\n      <td>NaN</td>\\n    </tr>\\n    <tr>\\n      <th>Woodview Park</th>\\n      <td>Emery</td>\\n      <td>1964</td>\\n      <td>1964.0</td>\\n      <td>23130</td>\\n      <td>NaN</td>\\n      <td>NaN</td>\\n    </tr>\\n    <tr>\\n      <th>Wychwood</th>\\n      <td>Bracondale Hill</td>\\n      <td>1880</td>\\n      <td>1916.0</td>\\n      <td>51433</td>\\n      <td>Carnegie library</td>\\n      <td>NaN</td>\\n    </tr>\\n    <tr>\\n      <th>York Woods</th>\\n      <td>Jane and Finch</td>\\n      <td>1970</td>\\n      <td>1970.0</td>\\n      <td>120199</td>\\n      <td>NaN</td>\\n      <td>NaN</td>\\n    </tr>\\n    <tr>\\n      <th>Yorkville</th>\\n      <td>Yorkville</td>\\n      <td>1884</td>\\n      <td>1907.0</td>\\n      <td>62240</td>\\n      <td>Carnegie library</td>\\n      <td>NaN</td>\\n    </tr>\\n  </tbody>\\n</table>'"
      ]
     },
     "execution_count": 13,
     "metadata": {},
     "output_type": "execute_result"
    }
   ],
   "source": [
    "html_table = df.to_html()\n",
    "html_table"
   ]
  },
  {
   "cell_type": "code",
   "execution_count": 14,
   "metadata": {},
   "outputs": [
    {
     "data": {
      "text/plain": [
       "'<table border=\"1\" class=\"dataframe\">  <thead>    <tr style=\"text-align: right;\">      <th></th>      <th>Neighbourhood</th>      <th>Opened</th>      <th>Built</th>      <th>Collection size</th>      <th>Notes</th>      <th>Image</th>    </tr>    <tr>      <th>Name</th>      <th></th>      <th></th>      <th></th>      <th></th>      <th></th>      <th></th>    </tr>  </thead>  <tbody>    <tr>      <th>Agincourt</th>      <td>Agincourt</td>      <td>1918</td>      <td>1991.0</td>      <td>176367</td>      <td>Originally the Agincourt Association Library f...</td>      <td>NaN</td>    </tr>    <tr>      <th>Albert Campbell</th>      <td>Scarborough Junction</td>      <td>1971</td>      <td>1971.0</td>      <td>120658</td>      <td>Named after Albert Campbell; operated as Alber...</td>      <td>NaN</td>    </tr>    <tr>      <th>Albion</th>      <td>Smithfield</td>      <td>1965</td>      <td>1973.0</td>      <td>133268</td>      <td>NaN</td>      <td>NaN</td>    </tr>    <tr>      <th>Alderwood</th>      <td>Alderwood</td>      <td>1958</td>      <td>1999.0</td>      <td>49830</td>      <td>NaN</td>      <td>NaN</td>    </tr>    <tr>      <th>Amesbury Park</th>      <td>Amesbury</td>      <td>1967</td>      <td>1967.0</td>      <td>39287</td>      <td>NaN</td>      <td>NaN</td>    </tr>    <tr>      <th>Annette Street</th>      <td>The Junction</td>      <td>1888</td>      <td>1909.0</td>      <td>39083</td>      <td>Carnegie library</td>      <td>NaN</td>    </tr>    <tr>      <th>Armour Heights</th>      <td>Armour Heights</td>      <td>1982</td>      <td>1982.0</td>      <td>26528</td>      <td>NaN</td>      <td>NaN</td>    </tr>    <tr>      <th>Barbara Frum</th>      <td>Lawrence Manor</td>      <td>1992</td>      <td>1992.0</td>      <td>138657</td>      <td>Replaced Bathurst Heights Regional Library. Na...</td>      <td>NaN</td>    </tr>    <tr>      <th>Bayview</th>      <td>Bayview Village</td>      <td>1966</td>      <td>2002.0</td>      <td>43145</td>      <td>Inside Bayview Village Shopping Centre</td>      <td>NaN</td>    </tr>    <tr>      <th>Beaches</th>      <td>The Beaches</td>      <td>1914</td>      <td>1916.0</td>      <td>54089</td>      <td>Carnegie library built in 1916[1]</td>      <td>NaN</td>    </tr>    <tr>      <th>Bendale</th>      <td>Bendale</td>      <td>1834</td>      <td>1961.0</td>      <td>38957</td>      <td>Founded as the Scarboro\\' Subscription Library ...</td>      <td>NaN</td>    </tr>    <tr>      <th>Black Creek</th>      <td>Downsview</td>      <td>1968</td>      <td>2002.0</td>      <td>32052</td>      <td>Located in the North York Sheridan Mall</td>      <td>NaN</td>    </tr>    <tr>      <th>Bloor/Gladstone</th>      <td>Dufferin Grove</td>      <td>1911</td>      <td>1911.0</td>      <td>59825</td>      <td>Reopened after renovations in 2009</td>      <td>NaN</td>    </tr>    <tr>      <th>Brentwood</th>      <td>The Kingsway</td>      <td>1955</td>      <td>1955.0</td>      <td>97432</td>      <td>Etobicoke\\'s main library from 1955 to 1966</td>      <td>NaN</td>    </tr>    <tr>      <th>Bridlewood</th>      <td>L\\'Amoreaux</td>      <td>1976</td>      <td>1992.0</td>      <td>59472</td>      <td>At Bridlewood Mall</td>      <td>NaN</td>    </tr>    <tr>      <th>Brookbanks</th>      <td>Parkwoods</td>      <td>1968</td>      <td>1968.0</td>      <td>49023</td>      <td>NaN</td>      <td>NaN</td>    </tr>    <tr>      <th>Burrows Hall</th>      <td>Malvern</td>      <td>1998</td>      <td>1998.0</td>      <td>53137</td>      <td>NaN</td>      <td>NaN</td>    </tr>    <tr>      <th>Cedarbrae</th>      <td>Woburn</td>      <td>1966</td>      <td>1966.0</td>      <td>158760</td>      <td>operated as Cederbrae District Branch prior to...</td>      <td>NaN</td>    </tr>    <tr>      <th>Centennial</th>      <td>Branson</td>      <td>1966</td>      <td>1966.0</td>      <td>36360</td>      <td>NaN</td>      <td>NaN</td>    </tr>    <tr>      <th>Central Library</th>      <td>University of Toronto</td>      <td>1909–1977</td>      <td>1909.0</td>      <td>NaN</td>      <td>Ontario\\'s largest Carnegie library, it served ...</td>      <td>NaN</td>    </tr>    <tr>      <th>City Hall</th>      <td>Downtown</td>      <td>1965</td>      <td>1965.0</td>      <td>36683</td>      <td>Inside Toronto City Hall</td>      <td>NaN</td>    </tr>    <tr>      <th>Cliffcrest</th>      <td>Cliffcrest</td>      <td>1972</td>      <td>2008.0</td>      <td>30087</td>      <td>NaN</td>      <td>NaN</td>    </tr>    <tr>      <th>College/Shaw</th>      <td>Little Italy</td>      <td>1984</td>      <td>1984.0</td>      <td>37123</td>      <td>NaN</td>      <td>NaN</td>    </tr>    <tr>      <th>Danforth/Coxwell</th>      <td>East Danforth</td>      <td>1989</td>      <td>1989.0</td>      <td>52136</td>      <td>NaN</td>      <td>NaN</td>    </tr>    <tr>      <th>Davenport</th>      <td>Davenport</td>      <td>1988</td>      <td>1988.0</td>      <td>15971</td>      <td>NaN</td>      <td>NaN</td>    </tr>    <tr>      <th>Dawes Road</th>      <td>O\\'Connor-Parkview</td>      <td>1976</td>      <td>1976.0</td>      <td>48472</td>      <td>Replaced Woodbine Gardens branch</td>      <td>NaN</td>    </tr>    <tr>      <th>Deer Park</th>      <td>Deer Park</td>      <td>1905</td>      <td>1952.0</td>      <td>74088</td>      <td>NaN</td>      <td>NaN</td>    </tr>    <tr>      <th>Don Mills</th>      <td>Don Mills</td>      <td>1961</td>      <td>1961.0</td>      <td>128059</td>      <td>NaN</td>      <td>NaN</td>    </tr>    <tr>      <th>Downsview</th>      <td>Downsview</td>      <td>1962</td>      <td>1962.0</td>      <td>83604</td>      <td>NaN</td>      <td>NaN</td>    </tr>    <tr>      <th>Downtown Branch</th>      <td>Downtown</td>      <td>1928–1965</td>      <td>NaN</td>      <td>NaN</td>      <td>First located at Old City Hall 1911, 42 Adelai...</td>      <td>NaN</td>    </tr>    <tr>      <th>Dufferin/St. Clair</th>      <td>Corso Italia</td>      <td>1921</td>      <td>1921.0</td>      <td>38883</td>      <td>NaN</td>      <td>NaN</td>    </tr>    <tr>      <th>Eatonville</th>      <td>Eatonville</td>      <td>1964</td>      <td>1964.0</td>      <td>73786</td>      <td>NaN</td>      <td>NaN</td>    </tr>    <tr>      <th>Eglinton Square</th>      <td>Golden Mile</td>      <td>1955</td>      <td>1965.0</td>      <td>44306</td>      <td>In Eglinton Square shopping mall</td>      <td>NaN</td>    </tr>    <tr>      <th>Elmbrook Park</th>      <td>Eringate</td>      <td>1988</td>      <td>1988.0</td>      <td>35929</td>      <td>NaN</td>      <td>NaN</td>    </tr>    <tr>      <th>Evelyn Gregory</th>      <td>Silverthorn</td>      <td>1968</td>      <td>1968.0</td>      <td>42632</td>      <td>Named in honour of York Public Library Chief L...</td>      <td>NaN</td>    </tr>    <tr>      <th>Fairview</th>      <td>Don Valley Village</td>      <td>1972</td>      <td>1976.0</td>      <td>218432</td>      <td>Adjacent to Fairview Mall</td>      <td>NaN</td>    </tr>    <tr>      <th>Flemingdon Park</th>      <td>Flemingdon Park</td>      <td>1981</td>      <td>1981.0</td>      <td>48177</td>      <td>NaN</td>      <td>NaN</td>    </tr>    <tr>      <th>Forest Hill</th>      <td>Forest Hill</td>      <td>1955</td>      <td>1962.0</td>      <td>56398</td>      <td>NaN</td>      <td>NaN</td>    </tr>    <tr>      <th>Fort York</th>      <td>CityPlace</td>      <td>2014[2]</td>      <td>2013.0</td>      <td>-</td>      <td>NaN</td>      <td>NaN</td>    </tr>    <tr>      <th>Gerrard/Ashdale</th>      <td>Little India</td>      <td>1924</td>      <td>1924.0</td>      <td>52172</td>      <td>NaN</td>      <td>NaN</td>    </tr>    <tr>      <th>Goldhawk Park</th>      <td>Milliken</td>      <td>1992</td>      <td>1992.0</td>      <td>58182</td>      <td>NaN</td>      <td>NaN</td>    </tr>    <tr>      <th>Guildwood</th>      <td>Guildwood</td>      <td>1974</td>      <td>1974.0</td>      <td>30034</td>      <td>NaN</td>      <td>NaN</td>    </tr>    <tr>      <th>High Park</th>      <td>Roncesvalles</td>      <td>1916</td>      <td>1916.0</td>      <td>55794</td>      <td>Carnegie library</td>      <td>NaN</td>    </tr>    <tr>      <th>Highland Creek</th>      <td>Highland Creek</td>      <td>1889</td>      <td>1994.0</td>      <td>45712</td>      <td>Founded as the Highland Creek Mechanics\\' Insti...</td>      <td>NaN</td>    </tr>    <tr>      <th>Hillcrest</th>      <td>Hillcrest Village</td>      <td>1975</td>      <td>1975.0</td>      <td>48104</td>      <td>NaN</td>      <td>NaN</td>    </tr>    <tr>      <th>Humber Bay</th>      <td>Humber Bay</td>      <td>1925</td>      <td>1951.0</td>      <td>29517</td>      <td>Etobicoke Public Library headquarters 1951-1955</td>      <td>NaN</td>    </tr>    <tr>      <th>Humberwood</th>      <td>Humberwood</td>      <td>1996</td>      <td>1996.0</td>      <td>39652</td>      <td>NaN</td>      <td>NaN</td>    </tr>    <tr>      <th>Humber Summit</th>      <td>Humber Summit</td>      <td>1974</td>      <td>1974.0</td>      <td>24225</td>      <td>NaN</td>      <td>NaN</td>    </tr>    <tr>      <th>Jane/Dundas</th>      <td>Runnymede</td>      <td>1951</td>      <td>1975.0</td>      <td>46429</td>      <td>NaN</td>      <td>NaN</td>    </tr>    <tr>      <th>Jane/Sheppard</th>      <td>Downsview</td>      <td>1989</td>      <td>2009.0</td>      <td>31668</td>      <td>NaN</td>      <td>NaN</td>    </tr>    <tr>      <th>Jones</th>      <td>Leslieville</td>      <td>1962</td>      <td>1962.0</td>      <td>33290</td>      <td>NaN</td>      <td>NaN</td>    </tr>    <tr>      <th>Kennedy/Eglinton</th>      <td>Ionview</td>      <td>1988</td>      <td>1988.0</td>      <td>34331</td>      <td>In Liberty Square Shopping Plaza</td>      <td>NaN</td>    </tr>    <tr>      <th>Leaside</th>      <td>Leaside</td>      <td>1944</td>      <td>1950.0</td>      <td>60607</td>      <td>NaN</td>      <td>NaN</td>    </tr>    <tr>      <th>Lillian H. Smith</th>      <td>Grange Park</td>      <td>1922</td>      <td>1995.0</td>      <td>122412</td>      <td>Originally the Boys &amp; Girls House. Focus on ch...</td>      <td>NaN</td>    </tr>    <tr>      <th>Locke</th>      <td>Lawrence Park</td>      <td>1949</td>      <td>1949.0</td>      <td>70804</td>      <td>Named after chief librarian George Locke</td>      <td>NaN</td>    </tr>    <tr>      <th>Long Branch</th>      <td>Long Branch</td>      <td>1944</td>      <td>1954.0</td>      <td>34305</td>      <td>NaN</td>      <td>NaN</td>    </tr>    <tr>      <th>Main Street</th>      <td>Upper Beaches</td>      <td>1903</td>      <td>1921.0</td>      <td>44279</td>      <td>NaN</td>      <td>NaN</td>    </tr>    <tr>      <th>Malvern</th>      <td>Malvern</td>      <td>1982</td>      <td>1982.0</td>      <td>149256</td>      <td>NaN</td>      <td>NaN</td>    </tr>    <tr>      <th>Maria A. Shchuka</th>      <td>Fairbank</td>      <td>1951</td>      <td>1951.0</td>      <td>106228</td>      <td>Named after Maria A. Shchuka, York Head Librar...</td>      <td>NaN</td>    </tr>    <tr>      <th>Maryvale</th>      <td>Maryvale</td>      <td>1982</td>      <td>1982.0</td>      <td>52793</td>      <td>At Parkway Mall</td>      <td>NaN</td>    </tr>    <tr>      <th>McGregor Park</th>      <td>Dorset Park</td>      <td>1960</td>      <td>2004.0</td>      <td>43994</td>      <td>NaN</td>      <td>NaN</td>    </tr>    <tr>      <th>Mechanics\\' Institute</th>      <td>Downtown</td>      <td>1883–1927</td>      <td>1853.0</td>      <td>NaN</td>      <td>Served as the first home of the Toronto Public...</td>      <td>NaN</td>    </tr>    <tr>      <th>Mimico Centennial</th>      <td>Mimico</td>      <td>1915</td>      <td>1966.0</td>      <td>48591</td>      <td>Original was a Carnegie library, but was demol...</td>      <td>NaN</td>    </tr>    <tr>      <th>Morningside</th>      <td>West Hill, Toronto</td>      <td>1968</td>      <td>2006.0</td>      <td>47530</td>      <td>NaN</td>      <td>NaN</td>    </tr>    <tr>      <th>Mount Dennis</th>      <td>Mount Dennis</td>      <td>1923</td>      <td>1951.0</td>      <td>46982</td>      <td>NaN</td>      <td>NaN</td>    </tr>    <tr>      <th>Mount Pleasant</th>      <td>Davisville Village</td>      <td>1992</td>      <td>1992.0</td>      <td>19654</td>      <td>NaN</td>      <td>NaN</td>    </tr>    <tr>      <th>New Toronto</th>      <td>New Toronto</td>      <td>1921</td>      <td>1994.0</td>      <td>40427</td>      <td>NaN</td>      <td>NaN</td>    </tr>    <tr>      <th>North York Central Library</th>      <td>North York Centre</td>      <td>1959</td>      <td>1987.0</td>      <td>542218</td>      <td>NaN</td>      <td>NaN</td>    </tr>    <tr>      <th>Northern District</th>      <td>North Toronto</td>      <td>1909</td>      <td>1975.0</td>      <td>177153</td>      <td>Re-opened after renovation in February 2011</td>      <td>NaN</td>    </tr>    <tr>      <th>Northern Elms</th>      <td>Rexdale</td>      <td>1991</td>      <td>2005.0</td>      <td>24983</td>      <td>NaN</td>      <td>NaN</td>    </tr>    <tr>      <th>Oakwood Village Library</th>      <td>Oakwood</td>      <td>1997</td>      <td>1997.0</td>      <td>37647</td>      <td>NaN</td>      <td>NaN</td>    </tr>    <tr>      <th>Palmerston</th>      <td>Seaton Village</td>      <td>1971</td>      <td>1971.0</td>      <td>39802</td>      <td>NaN</td>      <td>NaN</td>    </tr>    <tr>      <th>Pape/Danforth</th>      <td>The Danforth</td>      <td>1929</td>      <td>1929.0</td>      <td>64490</td>      <td>NaN</td>      <td>NaN</td>    </tr>    <tr>      <th>Parkdale</th>      <td>Parkdale, Toronto</td>      <td>1881</td>      <td>1964.0</td>      <td>74065</td>      <td>NaN</td>      <td>NaN</td>    </tr>    <tr>      <th>Parliament</th>      <td>Cabbagetown</td>      <td>1955</td>      <td>1969.0</td>      <td>60663</td>      <td>NaN</td>      <td>NaN</td>    </tr>    <tr>      <th>Perth/Dupont</th>      <td>West Junction Triangle</td>      <td>1977</td>      <td>1983.0</td>      <td>23003</td>      <td>NaN</td>      <td>NaN</td>    </tr>    <tr>      <th>Pleasant View</th>      <td>Pleasant View</td>      <td>1975</td>      <td>1975.0</td>      <td>40413</td>      <td>NaN</td>      <td>NaN</td>    </tr>    <tr>      <th>Port Union</th>      <td>Port Union</td>      <td>1974</td>      <td>1984.0</td>      <td>41474</td>      <td>NaN</td>      <td>NaN</td>    </tr>    <tr>      <th>Queen/Saulter</th>      <td>Riverside</td>      <td>1979</td>      <td>1980.0</td>      <td>19523</td>      <td>In the Ralph Thornton Community Centre</td>      <td>NaN</td>    </tr>    <tr>      <th>Rexdale</th>      <td>Rexdale</td>      <td>1959</td>      <td>1959.0</td>      <td>35431</td>      <td>NaN</td>      <td>NaN</td>    </tr>    <tr>      <th>Richview</th>      <td>Richview</td>      <td>1966</td>      <td>1966.0</td>      <td>198928</td>      <td>NaN</td>      <td>NaN</td>    </tr>    <tr>      <th>Riverdale</th>      <td>Riverdale</td>      <td>1888</td>      <td>1910.0</td>      <td>68221</td>      <td>Carnegie library</td>      <td>NaN</td>    </tr>    <tr>      <th>Runnymede</th>      <td>Bloor West Village</td>      <td>1904</td>      <td>1930.0</td>      <td>73075</td>      <td>Designed by John M. Lyle</td>      <td>NaN</td>    </tr>    <tr>      <th>S. Walter Stewart</th>      <td>Old East York</td>      <td>1950</td>      <td>1960.0</td>      <td>97466</td>      <td>Named after S. Walter Stewart, first chair of ...</td>      <td>NaN</td>    </tr>    <tr>      <th>Sanderson</th>      <td>Alexandra Park</td>      <td>1968</td>      <td>1968.0</td>      <td>64914</td>      <td>Named in honour of chief librarian Charles San...</td>      <td>NaN</td>    </tr>    <tr>      <th>Scarborough Civic Centre</th>      <td>Scarborough City Centre</td>      <td>2015</td>      <td>2015.0</td>      <td>40000</td>      <td>Newest branch in system</td>      <td>NaN</td>    </tr>    <tr>      <th>Spadina Road</th>      <td>The Annex</td>      <td>1977</td>      <td>1977.0</td>      <td>42573</td>      <td>NaN</td>      <td>NaN</td>    </tr>    <tr>      <th>St. Clair/Silverthorn</th>      <td>The Junction</td>      <td>1981</td>      <td>1981.0</td>      <td>21007</td>      <td>Was featured in the opening credits of the for...</td>      <td>NaN</td>    </tr>    <tr>      <th>St. James Town</th>      <td>St. James Town</td>      <td>2004</td>      <td>2004.0</td>      <td>59802</td>      <td>NaN</td>      <td>NaN</td>    </tr>    <tr>      <th>St. Lawrence</th>      <td>St. Lawrence</td>      <td>1982</td>      <td>1982.0</td>      <td>29617</td>      <td>NaN</td>      <td>NaN</td>    </tr>    <tr>      <th>Steeles</th>      <td>Steeles</td>      <td>1987</td>      <td>1987.0</td>      <td>48086</td>      <td>At Bamburgh Gardens Plaza</td>      <td>NaN</td>    </tr>    <tr>      <th>Swansea Memorial</th>      <td>Swansea</td>      <td>1923</td>      <td>1959.0</td>      <td>10049</td>      <td>NaN</td>      <td>NaN</td>    </tr>    <tr>      <th>Taylor Memorial</th>      <td>Birch Cliff</td>      <td>1962</td>      <td>1985.0</td>      <td>29687</td>      <td>Named after Florence Nightingale Taylor, wife ...</td>      <td>NaN</td>    </tr>    <tr>      <th>Thorncliffe</th>      <td>Thorncliffe Park</td>      <td>1961</td>      <td>1970.0</td>      <td>41752</td>      <td>NaN</td>      <td>NaN</td>    </tr>    <tr>      <th>Todmorden Room</th>      <td>Pape Village</td>      <td>1961</td>      <td>1961.0</td>      <td>8874</td>      <td>NaN</td>      <td>NaN</td>    </tr>    <tr>      <th>Toronto Reference Library</th>      <td>Yorkville</td>      <td>1977</td>      <td>1977.0</td>      <td>1653665</td>      <td>The largest public reference library in Canada</td>      <td>NaN</td>    </tr>    <tr>      <th>Urban Affairs</th>      <td>Downtown Toronto</td>      <td>1911</td>      <td>1992.0</td>      <td>346650</td>      <td>Previously located at Metro Hall, the branch w...</td>      <td>NaN</td>    </tr>    <tr>      <th>Victoria Village</th>      <td>Victoria Park Village</td>      <td>1967</td>      <td>1967.0</td>      <td>30504</td>      <td>NaN</td>      <td>NaN</td>    </tr>    <tr>      <th>Weston</th>      <td>Weston</td>      <td>1858</td>      <td>1914.0</td>      <td>43686</td>      <td>Carnegie library</td>      <td>NaN</td>    </tr>    <tr>      <th>Woodside Square</th>      <td>Agincourt</td>      <td>1977</td>      <td>1977.0</td>      <td>66076</td>      <td>At Woodside Square Mall. Relocated from former...</td>      <td>NaN</td>    </tr>    <tr>      <th>Woodview Park</th>      <td>Emery</td>      <td>1964</td>      <td>1964.0</td>      <td>23130</td>      <td>NaN</td>      <td>NaN</td>    </tr>    <tr>      <th>Wychwood</th>      <td>Bracondale Hill</td>      <td>1880</td>      <td>1916.0</td>      <td>51433</td>      <td>Carnegie library</td>      <td>NaN</td>    </tr>    <tr>      <th>York Woods</th>      <td>Jane and Finch</td>      <td>1970</td>      <td>1970.0</td>      <td>120199</td>      <td>NaN</td>      <td>NaN</td>    </tr>    <tr>      <th>Yorkville</th>      <td>Yorkville</td>      <td>1884</td>      <td>1907.0</td>      <td>62240</td>      <td>Carnegie library</td>      <td>NaN</td>    </tr>  </tbody></table>'"
      ]
     },
     "execution_count": 14,
     "metadata": {},
     "output_type": "execute_result"
    }
   ],
   "source": [
    "html_table.replace('\\n', '')"
   ]
  },
  {
   "cell_type": "code",
   "execution_count": 15,
   "metadata": {},
   "outputs": [],
   "source": [
    "html_file = df.to_html('table.html')"
   ]
  },
  {
   "cell_type": "code",
   "execution_count": null,
   "metadata": {},
   "outputs": [],
   "source": [
    "# OSX Users can run this to open the file in a browser, \n",
    "# or you can manually find the file and open it in the browser\n",
    "!open table.html"
   ]
  }
 ],
 "metadata": {
  "kernelspec": {
   "display_name": "Python 3",
   "language": "python",
   "name": "python3"
  },
  "language_info": {
   "codemirror_mode": {
    "name": "ipython",
    "version": 3
   },
   "file_extension": ".py",
   "mimetype": "text/x-python",
   "name": "python",
   "nbconvert_exporter": "python",
   "pygments_lexer": "ipython3",
   "version": "3.7.3"
  }
 },
 "nbformat": 4,
 "nbformat_minor": 2
}
