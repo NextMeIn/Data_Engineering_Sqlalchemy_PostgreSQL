{
 "cells": [
  {
   "cell_type": "code",
   "execution_count": 1,
   "metadata": {},
   "outputs": [],
   "source": [
    "import pandas as pd\n",
    "import databaseconfig as dbconnect\n",
    "Annual_Visits = pd.read_csv(\"resources/Annual_Visits.csv\")"
   ]
  },
  {
   "cell_type": "code",
   "execution_count": 2,
   "metadata": {},
   "outputs": [
    {
     "data": {
      "text/html": [
       "<div>\n",
       "<style scoped>\n",
       "    .dataframe tbody tr th:only-of-type {\n",
       "        vertical-align: middle;\n",
       "    }\n",
       "\n",
       "    .dataframe tbody tr th {\n",
       "        vertical-align: top;\n",
       "    }\n",
       "\n",
       "    .dataframe thead th {\n",
       "        text-align: right;\n",
       "    }\n",
       "</style>\n",
       "<table border=\"1\" class=\"dataframe\">\n",
       "  <thead>\n",
       "    <tr style=\"text-align: right;\">\n",
       "      <th></th>\n",
       "      <th>ID</th>\n",
       "      <th>Branch Name</th>\n",
       "      <th>Tier</th>\n",
       "      <th>2017</th>\n",
       "      <th>2016</th>\n",
       "      <th>2015</th>\n",
       "      <th>2014</th>\n",
       "      <th>2013</th>\n",
       "      <th>2012</th>\n",
       "    </tr>\n",
       "  </thead>\n",
       "  <tbody>\n",
       "    <tr>\n",
       "      <th>0</th>\n",
       "      <td>AG</td>\n",
       "      <td>Agincourt</td>\n",
       "      <td>DL</td>\n",
       "      <td>326233.0</td>\n",
       "      <td>309511</td>\n",
       "      <td>397421</td>\n",
       "      <td>424457</td>\n",
       "      <td>451500.0</td>\n",
       "      <td>434320.0</td>\n",
       "    </tr>\n",
       "    <tr>\n",
       "      <th>1</th>\n",
       "      <td>ACD</td>\n",
       "      <td>Albert Campbell</td>\n",
       "      <td>DL</td>\n",
       "      <td>356374.0</td>\n",
       "      <td>306164</td>\n",
       "      <td>277118</td>\n",
       "      <td>285428</td>\n",
       "      <td>222012.0</td>\n",
       "      <td>214076.0</td>\n",
       "    </tr>\n",
       "    <tr>\n",
       "      <th>2</th>\n",
       "      <td>AB</td>\n",
       "      <td>Albion</td>\n",
       "      <td>DL</td>\n",
       "      <td>260950.0</td>\n",
       "      <td>205025</td>\n",
       "      <td>194587</td>\n",
       "      <td>401819</td>\n",
       "      <td>432525.0</td>\n",
       "      <td>522309.0</td>\n",
       "    </tr>\n",
       "    <tr>\n",
       "      <th>3</th>\n",
       "      <td>AD</td>\n",
       "      <td>Alderwood</td>\n",
       "      <td>NL</td>\n",
       "      <td>97083.0</td>\n",
       "      <td>98557</td>\n",
       "      <td>101250</td>\n",
       "      <td>102875</td>\n",
       "      <td>96088.0</td>\n",
       "      <td>88065.0</td>\n",
       "    </tr>\n",
       "    <tr>\n",
       "      <th>4</th>\n",
       "      <td>AP</td>\n",
       "      <td>Amesbury Park</td>\n",
       "      <td>NL</td>\n",
       "      <td>25865.0</td>\n",
       "      <td>55587</td>\n",
       "      <td>51313</td>\n",
       "      <td>56313</td>\n",
       "      <td>53300.0</td>\n",
       "      <td>74678.0</td>\n",
       "    </tr>\n",
       "  </tbody>\n",
       "</table>\n",
       "</div>"
      ],
      "text/plain": [
       "    ID      Branch Name Tier      2017    2016    2015    2014      2013  \\\n",
       "0   AG        Agincourt   DL  326233.0  309511  397421  424457  451500.0   \n",
       "1  ACD  Albert Campbell   DL  356374.0  306164  277118  285428  222012.0   \n",
       "2   AB           Albion   DL  260950.0  205025  194587  401819  432525.0   \n",
       "3   AD        Alderwood   NL   97083.0   98557  101250  102875   96088.0   \n",
       "4   AP    Amesbury Park   NL   25865.0   55587   51313   56313   53300.0   \n",
       "\n",
       "       2012  \n",
       "0  434320.0  \n",
       "1  214076.0  \n",
       "2  522309.0  \n",
       "3   88065.0  \n",
       "4   74678.0  "
      ]
     },
     "execution_count": 2,
     "metadata": {},
     "output_type": "execute_result"
    }
   ],
   "source": [
    "Annual_Visits.head()"
   ]
  },
  {
   "cell_type": "code",
   "execution_count": 3,
   "metadata": {},
   "outputs": [
    {
     "data": {
      "text/plain": [
       "Index(['ID', 'Branch Name', 'Tier', '2017', '2016', '2015', '2014', '2013',\n",
       "       '2012'],\n",
       "      dtype='object')"
      ]
     },
     "execution_count": 3,
     "metadata": {},
     "output_type": "execute_result"
    }
   ],
   "source": [
    "Annual_Visits.keys()"
   ]
  },
  {
   "cell_type": "code",
   "execution_count": 4,
   "metadata": {},
   "outputs": [
    {
     "data": {
      "text/plain": [
       "['2012', '2013', '2014', '2015', '2016', '2017']"
      ]
     },
     "execution_count": 4,
     "metadata": {},
     "output_type": "execute_result"
    }
   ],
   "source": [
    "year = ['2017', '2016', '2015', '2014', '2013','2012']\n",
    "year = list(set(year))\n",
    "year.sort()\n",
    "year"
   ]
  },
  {
   "cell_type": "code",
   "execution_count": 5,
   "metadata": {},
   "outputs": [],
   "source": [
    "annualvisits = []\n",
    "for e in range(len(year)):\n",
    "    for x, y in Annual_Visits.iterrows():\n",
    "        annualvisits.append({'branch_id':y['ID'],'year':year[e],'value':y[year[e]]})"
   ]
  },
  {
   "cell_type": "code",
   "execution_count": 6,
   "metadata": {},
   "outputs": [
    {
     "data": {
      "text/html": [
       "<div>\n",
       "<style scoped>\n",
       "    .dataframe tbody tr th:only-of-type {\n",
       "        vertical-align: middle;\n",
       "    }\n",
       "\n",
       "    .dataframe tbody tr th {\n",
       "        vertical-align: top;\n",
       "    }\n",
       "\n",
       "    .dataframe thead th {\n",
       "        text-align: right;\n",
       "    }\n",
       "</style>\n",
       "<table border=\"1\" class=\"dataframe\">\n",
       "  <thead>\n",
       "    <tr style=\"text-align: right;\">\n",
       "      <th></th>\n",
       "      <th>branch_id</th>\n",
       "      <th>value</th>\n",
       "      <th>year</th>\n",
       "    </tr>\n",
       "  </thead>\n",
       "  <tbody>\n",
       "    <tr>\n",
       "      <th>0</th>\n",
       "      <td>AG</td>\n",
       "      <td>434320.0</td>\n",
       "      <td>2012</td>\n",
       "    </tr>\n",
       "    <tr>\n",
       "      <th>1</th>\n",
       "      <td>ACD</td>\n",
       "      <td>214076.0</td>\n",
       "      <td>2012</td>\n",
       "    </tr>\n",
       "    <tr>\n",
       "      <th>2</th>\n",
       "      <td>AB</td>\n",
       "      <td>522309.0</td>\n",
       "      <td>2012</td>\n",
       "    </tr>\n",
       "    <tr>\n",
       "      <th>3</th>\n",
       "      <td>AD</td>\n",
       "      <td>88065.0</td>\n",
       "      <td>2012</td>\n",
       "    </tr>\n",
       "    <tr>\n",
       "      <th>4</th>\n",
       "      <td>AP</td>\n",
       "      <td>74678.0</td>\n",
       "      <td>2012</td>\n",
       "    </tr>\n",
       "  </tbody>\n",
       "</table>\n",
       "</div>"
      ],
      "text/plain": [
       "  branch_id     value  year\n",
       "0        AG  434320.0  2012\n",
       "1       ACD  214076.0  2012\n",
       "2        AB  522309.0  2012\n",
       "3        AD   88065.0  2012\n",
       "4        AP   74678.0  2012"
      ]
     },
     "execution_count": 6,
     "metadata": {},
     "output_type": "execute_result"
    }
   ],
   "source": [
    "annualvisits_df = pd.DataFrame(annualvisits)\n",
    "annualvisits_df.head()"
   ]
  },
  {
   "cell_type": "code",
   "execution_count": 7,
   "metadata": {},
   "outputs": [
    {
     "data": {
      "text/plain": [
       "['active_cardholders',\n",
       " 'age_group',\n",
       " 'annual_visits',\n",
       " 'branch',\n",
       " 'catchment_population',\n",
       " 'circulation',\n",
       " 'collection_size',\n",
       " 'events',\n",
       " 'hours_of_operation',\n",
       " 'nbhd',\n",
       " 'new_registrations',\n",
       " 'registered_cardholders',\n",
       " 'ward_region',\n",
       " 'workstation_users',\n",
       " 'workstations']"
      ]
     },
     "execution_count": 7,
     "metadata": {},
     "output_type": "execute_result"
    }
   ],
   "source": [
    "from sqlalchemy import create_engine\n",
    "rds_connection_string = 'postgres:'+dbconnect.postgres['passwd']+'@localhost:5432/toronto_library_db'\n",
    "engine = create_engine(f'postgresql://{rds_connection_string}')\n",
    "tables = list(engine.table_names())\n",
    "tables.sort()\n",
    "tables"
   ]
  },
  {
   "cell_type": "code",
   "execution_count": 8,
   "metadata": {},
   "outputs": [
    {
     "data": {
      "text/plain": [
       "'annual_visits'"
      ]
     },
     "execution_count": 8,
     "metadata": {},
     "output_type": "execute_result"
    }
   ],
   "source": [
    "tables[2]"
   ]
  },
  {
   "cell_type": "code",
   "execution_count": 9,
   "metadata": {},
   "outputs": [],
   "source": [
    "annualvisits_df.to_sql(name=tables[2],con=engine,if_exists='append',index=False)"
   ]
  },
  {
   "cell_type": "code",
   "execution_count": 10,
   "metadata": {},
   "outputs": [
    {
     "data": {
      "text/html": [
       "<div>\n",
       "<style scoped>\n",
       "    .dataframe tbody tr th:only-of-type {\n",
       "        vertical-align: middle;\n",
       "    }\n",
       "\n",
       "    .dataframe tbody tr th {\n",
       "        vertical-align: top;\n",
       "    }\n",
       "\n",
       "    .dataframe thead th {\n",
       "        text-align: right;\n",
       "    }\n",
       "</style>\n",
       "<table border=\"1\" class=\"dataframe\">\n",
       "  <thead>\n",
       "    <tr style=\"text-align: right;\">\n",
       "      <th></th>\n",
       "      <th>branch_id</th>\n",
       "      <th>year</th>\n",
       "      <th>value</th>\n",
       "    </tr>\n",
       "  </thead>\n",
       "  <tbody>\n",
       "    <tr>\n",
       "      <th>0</th>\n",
       "      <td>AG</td>\n",
       "      <td>2012</td>\n",
       "      <td>434320.0</td>\n",
       "    </tr>\n",
       "    <tr>\n",
       "      <th>1</th>\n",
       "      <td>ACD</td>\n",
       "      <td>2012</td>\n",
       "      <td>214076.0</td>\n",
       "    </tr>\n",
       "    <tr>\n",
       "      <th>2</th>\n",
       "      <td>AB</td>\n",
       "      <td>2012</td>\n",
       "      <td>522309.0</td>\n",
       "    </tr>\n",
       "    <tr>\n",
       "      <th>3</th>\n",
       "      <td>AD</td>\n",
       "      <td>2012</td>\n",
       "      <td>88065.0</td>\n",
       "    </tr>\n",
       "    <tr>\n",
       "      <th>4</th>\n",
       "      <td>AP</td>\n",
       "      <td>2012</td>\n",
       "      <td>74678.0</td>\n",
       "    </tr>\n",
       "  </tbody>\n",
       "</table>\n",
       "</div>"
      ],
      "text/plain": [
       "  branch_id  year     value\n",
       "0        AG  2012  434320.0\n",
       "1       ACD  2012  214076.0\n",
       "2        AB  2012  522309.0\n",
       "3        AD  2012   88065.0\n",
       "4        AP  2012   74678.0"
      ]
     },
     "execution_count": 10,
     "metadata": {},
     "output_type": "execute_result"
    }
   ],
   "source": [
    "pd.read_sql_query('select * from '+tables[2], con=engine).head()"
   ]
  },
  {
   "cell_type": "code",
   "execution_count": null,
   "metadata": {},
   "outputs": [],
   "source": []
  }
 ],
 "metadata": {
  "kernelspec": {
   "display_name": "Python 3",
   "language": "python",
   "name": "python3"
  },
  "language_info": {
   "codemirror_mode": {
    "name": "ipython",
    "version": 3
   },
   "file_extension": ".py",
   "mimetype": "text/x-python",
   "name": "python",
   "nbconvert_exporter": "python",
   "pygments_lexer": "ipython3",
   "version": "3.7.3"
  }
 },
 "nbformat": 4,
 "nbformat_minor": 2
}
