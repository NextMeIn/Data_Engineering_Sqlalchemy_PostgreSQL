{
 "cells": [
  {
   "cell_type": "code",
   "execution_count": 1,
   "metadata": {},
   "outputs": [],
   "source": [
    "import pandas as pd\n",
    "Registered_Cardholders_by_Cardholder_Type = pd.read_csv(\"resources/Registered_Cardholders_by_Cardholder_Type.csv\")"
   ]
  },
  {
   "cell_type": "code",
   "execution_count": 2,
   "metadata": {},
   "outputs": [
    {
     "data": {
      "text/html": [
       "<div>\n",
       "<style scoped>\n",
       "    .dataframe tbody tr th:only-of-type {\n",
       "        vertical-align: middle;\n",
       "    }\n",
       "\n",
       "    .dataframe tbody tr th {\n",
       "        vertical-align: top;\n",
       "    }\n",
       "\n",
       "    .dataframe thead th {\n",
       "        text-align: right;\n",
       "    }\n",
       "</style>\n",
       "<table border=\"1\" class=\"dataframe\">\n",
       "  <thead>\n",
       "    <tr style=\"text-align: right;\">\n",
       "      <th></th>\n",
       "      <th>ID</th>\n",
       "      <th>Branch Name</th>\n",
       "      <th>Tier</th>\n",
       "      <th>Child2017</th>\n",
       "      <th>Teen2017</th>\n",
       "      <th>Adult2017</th>\n",
       "      <th>Child2016</th>\n",
       "      <th>Teen2016</th>\n",
       "      <th>Adult2016</th>\n",
       "      <th>Child2015</th>\n",
       "      <th>...</th>\n",
       "      <th>Adult2013</th>\n",
       "      <th>Child2012</th>\n",
       "      <th>Teen2012</th>\n",
       "      <th>Adult2012</th>\n",
       "      <th>Child2011</th>\n",
       "      <th>Teen2011</th>\n",
       "      <th>Adult2011</th>\n",
       "      <th>Child2010</th>\n",
       "      <th>Teen2010</th>\n",
       "      <th>Adult2010</th>\n",
       "    </tr>\n",
       "  </thead>\n",
       "  <tbody>\n",
       "    <tr>\n",
       "      <th>0</th>\n",
       "      <td>AG</td>\n",
       "      <td>Agincourt</td>\n",
       "      <td>DL</td>\n",
       "      <td>3676.0</td>\n",
       "      <td>1789.0</td>\n",
       "      <td>15838</td>\n",
       "      <td>4599.0</td>\n",
       "      <td>2387.0</td>\n",
       "      <td>20696</td>\n",
       "      <td>5191.0</td>\n",
       "      <td>...</td>\n",
       "      <td>24014.0</td>\n",
       "      <td>5921.0</td>\n",
       "      <td>3866.0</td>\n",
       "      <td>26835.0</td>\n",
       "      <td>5865.0</td>\n",
       "      <td>3965.0</td>\n",
       "      <td>27026.0</td>\n",
       "      <td>6126.0</td>\n",
       "      <td>4083.0</td>\n",
       "      <td>28423.0</td>\n",
       "    </tr>\n",
       "    <tr>\n",
       "      <th>1</th>\n",
       "      <td>ACD</td>\n",
       "      <td>Albert Campbell</td>\n",
       "      <td>DL</td>\n",
       "      <td>2845.0</td>\n",
       "      <td>1268.0</td>\n",
       "      <td>7902</td>\n",
       "      <td>3403.0</td>\n",
       "      <td>1552.0</td>\n",
       "      <td>9899</td>\n",
       "      <td>3744.0</td>\n",
       "      <td>...</td>\n",
       "      <td>10798.0</td>\n",
       "      <td>4067.0</td>\n",
       "      <td>2173.0</td>\n",
       "      <td>12120.0</td>\n",
       "      <td>4024.0</td>\n",
       "      <td>2122.0</td>\n",
       "      <td>12063.0</td>\n",
       "      <td>4041.0</td>\n",
       "      <td>2122.0</td>\n",
       "      <td>12401.0</td>\n",
       "    </tr>\n",
       "    <tr>\n",
       "      <th>2</th>\n",
       "      <td>AB</td>\n",
       "      <td>Albion</td>\n",
       "      <td>DL</td>\n",
       "      <td>6650.0</td>\n",
       "      <td>3435.0</td>\n",
       "      <td>16935</td>\n",
       "      <td>7973.0</td>\n",
       "      <td>3445.0</td>\n",
       "      <td>19897</td>\n",
       "      <td>8827.0</td>\n",
       "      <td>...</td>\n",
       "      <td>22210.0</td>\n",
       "      <td>10460.0</td>\n",
       "      <td>4989.0</td>\n",
       "      <td>25124.0</td>\n",
       "      <td>10156.0</td>\n",
       "      <td>4895.0</td>\n",
       "      <td>24709.0</td>\n",
       "      <td>9866.0</td>\n",
       "      <td>4515.0</td>\n",
       "      <td>25637.0</td>\n",
       "    </tr>\n",
       "    <tr>\n",
       "      <th>3</th>\n",
       "      <td>AD</td>\n",
       "      <td>Alderwood</td>\n",
       "      <td>NL</td>\n",
       "      <td>1211.0</td>\n",
       "      <td>235.0</td>\n",
       "      <td>2915</td>\n",
       "      <td>1386.0</td>\n",
       "      <td>305.0</td>\n",
       "      <td>3341</td>\n",
       "      <td>1448.0</td>\n",
       "      <td>...</td>\n",
       "      <td>3374.0</td>\n",
       "      <td>1656.0</td>\n",
       "      <td>426.0</td>\n",
       "      <td>3656.0</td>\n",
       "      <td>1670.0</td>\n",
       "      <td>407.0</td>\n",
       "      <td>3629.0</td>\n",
       "      <td>1705.0</td>\n",
       "      <td>372.0</td>\n",
       "      <td>3669.0</td>\n",
       "    </tr>\n",
       "    <tr>\n",
       "      <th>4</th>\n",
       "      <td>AP</td>\n",
       "      <td>Amesbury Park</td>\n",
       "      <td>NL</td>\n",
       "      <td>1312.0</td>\n",
       "      <td>562.0</td>\n",
       "      <td>3184</td>\n",
       "      <td>1893.0</td>\n",
       "      <td>758.0</td>\n",
       "      <td>4506</td>\n",
       "      <td>2108.0</td>\n",
       "      <td>...</td>\n",
       "      <td>4716.0</td>\n",
       "      <td>2213.0</td>\n",
       "      <td>925.0</td>\n",
       "      <td>5198.0</td>\n",
       "      <td>2151.0</td>\n",
       "      <td>873.0</td>\n",
       "      <td>5020.0</td>\n",
       "      <td>2179.0</td>\n",
       "      <td>789.0</td>\n",
       "      <td>5069.0</td>\n",
       "    </tr>\n",
       "  </tbody>\n",
       "</table>\n",
       "<p>5 rows × 27 columns</p>\n",
       "</div>"
      ],
      "text/plain": [
       "    ID      Branch Name Tier  Child2017  Teen2017  Adult2017  Child2016  \\\n",
       "0   AG        Agincourt   DL     3676.0    1789.0      15838     4599.0   \n",
       "1  ACD  Albert Campbell   DL     2845.0    1268.0       7902     3403.0   \n",
       "2   AB           Albion   DL     6650.0    3435.0      16935     7973.0   \n",
       "3   AD        Alderwood   NL     1211.0     235.0       2915     1386.0   \n",
       "4   AP    Amesbury Park   NL     1312.0     562.0       3184     1893.0   \n",
       "\n",
       "   Teen2016  Adult2016  Child2015  ...  Adult2013  Child2012  Teen2012  \\\n",
       "0    2387.0      20696     5191.0  ...    24014.0     5921.0    3866.0   \n",
       "1    1552.0       9899     3744.0  ...    10798.0     4067.0    2173.0   \n",
       "2    3445.0      19897     8827.0  ...    22210.0    10460.0    4989.0   \n",
       "3     305.0       3341     1448.0  ...     3374.0     1656.0     426.0   \n",
       "4     758.0       4506     2108.0  ...     4716.0     2213.0     925.0   \n",
       "\n",
       "   Adult2012  Child2011  Teen2011  Adult2011  Child2010  Teen2010  Adult2010  \n",
       "0    26835.0     5865.0    3965.0    27026.0     6126.0    4083.0    28423.0  \n",
       "1    12120.0     4024.0    2122.0    12063.0     4041.0    2122.0    12401.0  \n",
       "2    25124.0    10156.0    4895.0    24709.0     9866.0    4515.0    25637.0  \n",
       "3     3656.0     1670.0     407.0     3629.0     1705.0     372.0     3669.0  \n",
       "4     5198.0     2151.0     873.0     5020.0     2179.0     789.0     5069.0  \n",
       "\n",
       "[5 rows x 27 columns]"
      ]
     },
     "execution_count": 2,
     "metadata": {},
     "output_type": "execute_result"
    }
   ],
   "source": [
    "Registered_Cardholders_by_Cardholder_Type.head()"
   ]
  },
  {
   "cell_type": "code",
   "execution_count": 4,
   "metadata": {},
   "outputs": [
    {
     "data": {
      "text/plain": [
       "Index(['ID', 'Branch Name', 'Tier', 'Child2017', 'Teen2017', 'Adult2017',\n",
       "       'Child2016', 'Teen2016', 'Adult2016', 'Child2015', 'Teen2015',\n",
       "       'Adult2015', 'Child2014', 'Teen2014', 'Adult2014', 'Child2013',\n",
       "       'Teen2013', 'Adult2013', 'Child2012', 'Teen2012', 'Adult2012',\n",
       "       'Child2011', 'Teen2011', 'Adult2011', 'Child2010', 'Teen2010',\n",
       "       'Adult2010'],\n",
       "      dtype='object')"
      ]
     },
     "execution_count": 4,
     "metadata": {},
     "output_type": "execute_result"
    }
   ],
   "source": [
    "Registered_Cardholders_by_Cardholder_Type.keys()"
   ]
  },
  {
   "cell_type": "code",
   "execution_count": 5,
   "metadata": {},
   "outputs": [],
   "source": [
    "columnnames = ['Child2017', 'Teen2017', 'Adult2017',\n",
    "       'Child2016', 'Teen2016', 'Adult2016', 'Child2015', 'Teen2015',\n",
    "       'Adult2015', 'Child2014', 'Teen2014', 'Adult2014', 'Child2013',\n",
    "       'Teen2013', 'Adult2013', 'Child2012', 'Teen2012', 'Adult2012',\n",
    "       'Child2011', 'Teen2011', 'Adult2011', 'Child2010', 'Teen2010',\n",
    "       'Adult2010']"
   ]
  },
  {
   "cell_type": "code",
   "execution_count": 6,
   "metadata": {},
   "outputs": [],
   "source": [
    "age_group = [columnname[:len(columnname)-4] for columnname in columnnames]\n",
    "year = [columnname[len(columnname)-4:] for columnname in columnnames]"
   ]
  },
  {
   "cell_type": "code",
   "execution_count": 7,
   "metadata": {},
   "outputs": [
    {
     "data": {
      "text/plain": [
       "['Adult', 'Child', 'Teen']"
      ]
     },
     "execution_count": 7,
     "metadata": {},
     "output_type": "execute_result"
    }
   ],
   "source": [
    "age_group = list(set(age_group))\n",
    "age_group.sort()\n",
    "age_group"
   ]
  },
  {
   "cell_type": "code",
   "execution_count": 8,
   "metadata": {},
   "outputs": [
    {
     "data": {
      "text/plain": [
       "['2010', '2011', '2012', '2013', '2014', '2015', '2016', '2017']"
      ]
     },
     "execution_count": 8,
     "metadata": {},
     "output_type": "execute_result"
    }
   ],
   "source": [
    "year = list(set(year))\n",
    "year.sort()\n",
    "year"
   ]
  },
  {
   "cell_type": "code",
   "execution_count": 10,
   "metadata": {},
   "outputs": [],
   "source": [
    "registeredcardholders = []\n",
    "for a in range(len(age_group)):\n",
    "    for e in range(len(year)):\n",
    "        for x, y in Registered_Cardholders_by_Cardholder_Type.iterrows():\n",
    "            registeredcardholders.append({'branch_id':y['ID'],'age_group_id':a+1,'year':year[e],'value':y[age_group[a]+year[e]]})"
   ]
  },
  {
   "cell_type": "code",
   "execution_count": 14,
   "metadata": {},
   "outputs": [
    {
     "data": {
      "text/html": [
       "<div>\n",
       "<style scoped>\n",
       "    .dataframe tbody tr th:only-of-type {\n",
       "        vertical-align: middle;\n",
       "    }\n",
       "\n",
       "    .dataframe tbody tr th {\n",
       "        vertical-align: top;\n",
       "    }\n",
       "\n",
       "    .dataframe thead th {\n",
       "        text-align: right;\n",
       "    }\n",
       "</style>\n",
       "<table border=\"1\" class=\"dataframe\">\n",
       "  <thead>\n",
       "    <tr style=\"text-align: right;\">\n",
       "      <th></th>\n",
       "      <th>age_group_id</th>\n",
       "      <th>branch_id</th>\n",
       "      <th>value</th>\n",
       "      <th>year</th>\n",
       "    </tr>\n",
       "  </thead>\n",
       "  <tbody>\n",
       "    <tr>\n",
       "      <th>0</th>\n",
       "      <td>1</td>\n",
       "      <td>AG</td>\n",
       "      <td>28423.0</td>\n",
       "      <td>2010</td>\n",
       "    </tr>\n",
       "    <tr>\n",
       "      <th>1</th>\n",
       "      <td>1</td>\n",
       "      <td>ACD</td>\n",
       "      <td>12401.0</td>\n",
       "      <td>2010</td>\n",
       "    </tr>\n",
       "    <tr>\n",
       "      <th>2</th>\n",
       "      <td>1</td>\n",
       "      <td>AB</td>\n",
       "      <td>25637.0</td>\n",
       "      <td>2010</td>\n",
       "    </tr>\n",
       "    <tr>\n",
       "      <th>3</th>\n",
       "      <td>1</td>\n",
       "      <td>AD</td>\n",
       "      <td>3669.0</td>\n",
       "      <td>2010</td>\n",
       "    </tr>\n",
       "    <tr>\n",
       "      <th>4</th>\n",
       "      <td>1</td>\n",
       "      <td>AP</td>\n",
       "      <td>5069.0</td>\n",
       "      <td>2010</td>\n",
       "    </tr>\n",
       "  </tbody>\n",
       "</table>\n",
       "</div>"
      ],
      "text/plain": [
       "   age_group_id branch_id    value  year\n",
       "0             1        AG  28423.0  2010\n",
       "1             1       ACD  12401.0  2010\n",
       "2             1        AB  25637.0  2010\n",
       "3             1        AD   3669.0  2010\n",
       "4             1        AP   5069.0  2010"
      ]
     },
     "execution_count": 14,
     "metadata": {},
     "output_type": "execute_result"
    }
   ],
   "source": [
    "registeredcardholders_df = pd.DataFrame(registeredcardholders)\n",
    "registeredcardholders_df.head()"
   ]
  },
  {
   "cell_type": "code",
   "execution_count": null,
   "metadata": {},
   "outputs": [],
   "source": []
  }
 ],
 "metadata": {
  "kernelspec": {
   "display_name": "Python 3",
   "language": "python",
   "name": "python3"
  },
  "language_info": {
   "codemirror_mode": {
    "name": "ipython",
    "version": 3
   },
   "file_extension": ".py",
   "mimetype": "text/x-python",
   "name": "python",
   "nbconvert_exporter": "python",
   "pygments_lexer": "ipython3",
   "version": "3.7.3"
  }
 },
 "nbformat": 4,
 "nbformat_minor": 2
}
