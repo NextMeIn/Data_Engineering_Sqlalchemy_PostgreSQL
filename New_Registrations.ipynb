{
 "cells": [
  {
   "cell_type": "code",
   "execution_count": 1,
   "metadata": {},
   "outputs": [],
   "source": [
    "import pandas as pd\n",
    "New_Registrations = pd.read_csv(\"resources/New_Registrations.csv\")"
   ]
  },
  {
   "cell_type": "code",
   "execution_count": 2,
   "metadata": {},
   "outputs": [
    {
     "data": {
      "text/html": [
       "<div>\n",
       "<style scoped>\n",
       "    .dataframe tbody tr th:only-of-type {\n",
       "        vertical-align: middle;\n",
       "    }\n",
       "\n",
       "    .dataframe tbody tr th {\n",
       "        vertical-align: top;\n",
       "    }\n",
       "\n",
       "    .dataframe thead th {\n",
       "        text-align: right;\n",
       "    }\n",
       "</style>\n",
       "<table border=\"1\" class=\"dataframe\">\n",
       "  <thead>\n",
       "    <tr style=\"text-align: right;\">\n",
       "      <th></th>\n",
       "      <th>ID</th>\n",
       "      <th>Branch Name</th>\n",
       "      <th>Tier</th>\n",
       "      <th>2017</th>\n",
       "      <th>2016</th>\n",
       "      <th>2015</th>\n",
       "      <th>2014</th>\n",
       "      <th>2013</th>\n",
       "      <th>2012</th>\n",
       "      <th>2011</th>\n",
       "      <th>2010</th>\n",
       "    </tr>\n",
       "  </thead>\n",
       "  <tbody>\n",
       "    <tr>\n",
       "      <th>0</th>\n",
       "      <td>AG</td>\n",
       "      <td>Agincourt</td>\n",
       "      <td>DL</td>\n",
       "      <td>2538.0</td>\n",
       "      <td>2318.0</td>\n",
       "      <td>2919.0</td>\n",
       "      <td>3171.0</td>\n",
       "      <td>3586.0</td>\n",
       "      <td>3166.0</td>\n",
       "      <td>3725.0</td>\n",
       "      <td>4301.0</td>\n",
       "    </tr>\n",
       "    <tr>\n",
       "      <th>1</th>\n",
       "      <td>ACD</td>\n",
       "      <td>Albert Campbell</td>\n",
       "      <td>DL</td>\n",
       "      <td>1625.0</td>\n",
       "      <td>1592.0</td>\n",
       "      <td>1448.0</td>\n",
       "      <td>1782.0</td>\n",
       "      <td>1770.0</td>\n",
       "      <td>1695.0</td>\n",
       "      <td>1984.0</td>\n",
       "      <td>2268.0</td>\n",
       "    </tr>\n",
       "    <tr>\n",
       "      <th>2</th>\n",
       "      <td>AB</td>\n",
       "      <td>Albion</td>\n",
       "      <td>DL</td>\n",
       "      <td>6889.0</td>\n",
       "      <td>4474.0</td>\n",
       "      <td>4272.0</td>\n",
       "      <td>3810.0</td>\n",
       "      <td>4483.0</td>\n",
       "      <td>4939.0</td>\n",
       "      <td>5976.0</td>\n",
       "      <td>6251.0</td>\n",
       "    </tr>\n",
       "    <tr>\n",
       "      <th>3</th>\n",
       "      <td>AD</td>\n",
       "      <td>Alderwood</td>\n",
       "      <td>NL</td>\n",
       "      <td>545.0</td>\n",
       "      <td>526.0</td>\n",
       "      <td>519.0</td>\n",
       "      <td>543.0</td>\n",
       "      <td>504.0</td>\n",
       "      <td>445.0</td>\n",
       "      <td>540.0</td>\n",
       "      <td>607.0</td>\n",
       "    </tr>\n",
       "    <tr>\n",
       "      <th>4</th>\n",
       "      <td>AP</td>\n",
       "      <td>Amesbury Park</td>\n",
       "      <td>NL</td>\n",
       "      <td>485.0</td>\n",
       "      <td>796.0</td>\n",
       "      <td>709.0</td>\n",
       "      <td>1020.0</td>\n",
       "      <td>911.0</td>\n",
       "      <td>901.0</td>\n",
       "      <td>972.0</td>\n",
       "      <td>1050.0</td>\n",
       "    </tr>\n",
       "  </tbody>\n",
       "</table>\n",
       "</div>"
      ],
      "text/plain": [
       "    ID      Branch Name Tier    2017    2016    2015    2014    2013    2012  \\\n",
       "0   AG        Agincourt   DL  2538.0  2318.0  2919.0  3171.0  3586.0  3166.0   \n",
       "1  ACD  Albert Campbell   DL  1625.0  1592.0  1448.0  1782.0  1770.0  1695.0   \n",
       "2   AB           Albion   DL  6889.0  4474.0  4272.0  3810.0  4483.0  4939.0   \n",
       "3   AD        Alderwood   NL   545.0   526.0   519.0   543.0   504.0   445.0   \n",
       "4   AP    Amesbury Park   NL   485.0   796.0   709.0  1020.0   911.0   901.0   \n",
       "\n",
       "     2011    2010  \n",
       "0  3725.0  4301.0  \n",
       "1  1984.0  2268.0  \n",
       "2  5976.0  6251.0  \n",
       "3   540.0   607.0  \n",
       "4   972.0  1050.0  "
      ]
     },
     "execution_count": 2,
     "metadata": {},
     "output_type": "execute_result"
    }
   ],
   "source": [
    "New_Registrations.head()"
   ]
  },
  {
   "cell_type": "code",
   "execution_count": 3,
   "metadata": {},
   "outputs": [
    {
     "data": {
      "text/plain": [
       "Index(['ID', 'Branch Name', 'Tier', '2017', '2016', '2015', '2014', '2013',\n",
       "       '2012', '2011', '2010'],\n",
       "      dtype='object')"
      ]
     },
     "execution_count": 3,
     "metadata": {},
     "output_type": "execute_result"
    }
   ],
   "source": [
    "New_Registrations.keys()"
   ]
  },
  {
   "cell_type": "code",
   "execution_count": 4,
   "metadata": {},
   "outputs": [
    {
     "data": {
      "text/plain": [
       "['2010', '2011', '2012', '2013', '2014', '2015', '2016', '2017']"
      ]
     },
     "execution_count": 4,
     "metadata": {},
     "output_type": "execute_result"
    }
   ],
   "source": [
    "year = ['2017', '2016', '2015', '2014', '2013',\n",
    "       '2012', '2011', '2010']\n",
    "year = list(set(year))\n",
    "year.sort()\n",
    "year"
   ]
  },
  {
   "cell_type": "code",
   "execution_count": 5,
   "metadata": {},
   "outputs": [],
   "source": [
    "newregistrations = []\n",
    "for e in range(len(year)):\n",
    "    for x, y in New_Registrations.iterrows():\n",
    "        newregistrations.append({'branch_id':y['ID'],'year':year[e],'value':y[year[e]]})"
   ]
  },
  {
   "cell_type": "code",
   "execution_count": 8,
   "metadata": {},
   "outputs": [
    {
     "data": {
      "text/html": [
       "<div>\n",
       "<style scoped>\n",
       "    .dataframe tbody tr th:only-of-type {\n",
       "        vertical-align: middle;\n",
       "    }\n",
       "\n",
       "    .dataframe tbody tr th {\n",
       "        vertical-align: top;\n",
       "    }\n",
       "\n",
       "    .dataframe thead th {\n",
       "        text-align: right;\n",
       "    }\n",
       "</style>\n",
       "<table border=\"1\" class=\"dataframe\">\n",
       "  <thead>\n",
       "    <tr style=\"text-align: right;\">\n",
       "      <th></th>\n",
       "      <th>branch_id</th>\n",
       "      <th>value</th>\n",
       "      <th>year</th>\n",
       "    </tr>\n",
       "  </thead>\n",
       "  <tbody>\n",
       "    <tr>\n",
       "      <th>0</th>\n",
       "      <td>AG</td>\n",
       "      <td>4301.0</td>\n",
       "      <td>2010</td>\n",
       "    </tr>\n",
       "    <tr>\n",
       "      <th>1</th>\n",
       "      <td>ACD</td>\n",
       "      <td>2268.0</td>\n",
       "      <td>2010</td>\n",
       "    </tr>\n",
       "    <tr>\n",
       "      <th>2</th>\n",
       "      <td>AB</td>\n",
       "      <td>6251.0</td>\n",
       "      <td>2010</td>\n",
       "    </tr>\n",
       "    <tr>\n",
       "      <th>3</th>\n",
       "      <td>AD</td>\n",
       "      <td>607.0</td>\n",
       "      <td>2010</td>\n",
       "    </tr>\n",
       "    <tr>\n",
       "      <th>4</th>\n",
       "      <td>AP</td>\n",
       "      <td>1050.0</td>\n",
       "      <td>2010</td>\n",
       "    </tr>\n",
       "  </tbody>\n",
       "</table>\n",
       "</div>"
      ],
      "text/plain": [
       "  branch_id   value  year\n",
       "0        AG  4301.0  2010\n",
       "1       ACD  2268.0  2010\n",
       "2        AB  6251.0  2010\n",
       "3        AD   607.0  2010\n",
       "4        AP  1050.0  2010"
      ]
     },
     "execution_count": 8,
     "metadata": {},
     "output_type": "execute_result"
    }
   ],
   "source": [
    "newregistrations_df = pd.DataFrame(newregistrations)\n",
    "newregistrations_df.head()"
   ]
  },
  {
   "cell_type": "code",
   "execution_count": null,
   "metadata": {},
   "outputs": [],
   "source": []
  }
 ],
 "metadata": {
  "kernelspec": {
   "display_name": "Python 3",
   "language": "python",
   "name": "python3"
  },
  "language_info": {
   "codemirror_mode": {
    "name": "ipython",
    "version": 3
   },
   "file_extension": ".py",
   "mimetype": "text/x-python",
   "name": "python",
   "nbconvert_exporter": "python",
   "pygments_lexer": "ipython3",
   "version": "3.7.3"
  }
 },
 "nbformat": 4,
 "nbformat_minor": 2
}
