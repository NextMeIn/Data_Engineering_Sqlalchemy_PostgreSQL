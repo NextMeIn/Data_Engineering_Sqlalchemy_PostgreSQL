{
 "cells": [
  {
   "cell_type": "code",
   "execution_count": 1,
   "metadata": {},
   "outputs": [],
   "source": [
    "import pandas as pd\n",
    "Hours_of_Operation = pd.read_csv(\"resources/Hours_of_Operation.csv\")"
   ]
  },
  {
   "cell_type": "code",
   "execution_count": 2,
   "metadata": {},
   "outputs": [
    {
     "data": {
      "text/html": [
       "<div>\n",
       "<style scoped>\n",
       "    .dataframe tbody tr th:only-of-type {\n",
       "        vertical-align: middle;\n",
       "    }\n",
       "\n",
       "    .dataframe tbody tr th {\n",
       "        vertical-align: top;\n",
       "    }\n",
       "\n",
       "    .dataframe thead th {\n",
       "        text-align: right;\n",
       "    }\n",
       "</style>\n",
       "<table border=\"1\" class=\"dataframe\">\n",
       "  <thead>\n",
       "    <tr style=\"text-align: right;\">\n",
       "      <th></th>\n",
       "      <th>ID</th>\n",
       "      <th>Branch</th>\n",
       "      <th>Tier</th>\n",
       "      <th>MondayOH</th>\n",
       "      <th>TuesdayOH</th>\n",
       "      <th>WednesdayOH</th>\n",
       "      <th>ThursdayOH</th>\n",
       "      <th>FridayOH</th>\n",
       "      <th>SaturdayOH</th>\n",
       "      <th>SundayOH</th>\n",
       "      <th>MondayDH</th>\n",
       "      <th>TuesdayDH</th>\n",
       "      <th>WednesdayDH</th>\n",
       "      <th>ThursdayDH</th>\n",
       "      <th>FridayDH</th>\n",
       "      <th>SaturdayDH</th>\n",
       "      <th>SundayDH</th>\n",
       "    </tr>\n",
       "  </thead>\n",
       "  <tbody>\n",
       "    <tr>\n",
       "      <th>0</th>\n",
       "      <td>AG</td>\n",
       "      <td>Agincourt</td>\n",
       "      <td>DL</td>\n",
       "      <td>9-8:30</td>\n",
       "      <td>9-8:30</td>\n",
       "      <td>9-8:30</td>\n",
       "      <td>9-8:30</td>\n",
       "      <td>9-8:30</td>\n",
       "      <td>9:00 - 5:00</td>\n",
       "      <td>1:30-5</td>\n",
       "      <td>11.5</td>\n",
       "      <td>11.5</td>\n",
       "      <td>11.5</td>\n",
       "      <td>11.5</td>\n",
       "      <td>11.5</td>\n",
       "      <td>8.0</td>\n",
       "      <td>3.5</td>\n",
       "    </tr>\n",
       "    <tr>\n",
       "      <th>1</th>\n",
       "      <td>ACD</td>\n",
       "      <td>Albert Campbell</td>\n",
       "      <td>DL</td>\n",
       "      <td>9-8:30</td>\n",
       "      <td>9-8:30</td>\n",
       "      <td>9-8:30</td>\n",
       "      <td>9-8:30</td>\n",
       "      <td>9-8:30</td>\n",
       "      <td>9:00 - 5:00</td>\n",
       "      <td>1:30-5</td>\n",
       "      <td>11.5</td>\n",
       "      <td>11.5</td>\n",
       "      <td>11.5</td>\n",
       "      <td>11.5</td>\n",
       "      <td>11.5</td>\n",
       "      <td>8.0</td>\n",
       "      <td>3.5</td>\n",
       "    </tr>\n",
       "    <tr>\n",
       "      <th>2</th>\n",
       "      <td>AB</td>\n",
       "      <td>Albion</td>\n",
       "      <td>DL</td>\n",
       "      <td>9-8:30</td>\n",
       "      <td>9-8:30</td>\n",
       "      <td>9-8:30</td>\n",
       "      <td>9-8:30</td>\n",
       "      <td>9-8:30</td>\n",
       "      <td>9:00 - 5:00</td>\n",
       "      <td>1:30-5</td>\n",
       "      <td>11.5</td>\n",
       "      <td>11.5</td>\n",
       "      <td>11.5</td>\n",
       "      <td>11.5</td>\n",
       "      <td>11.5</td>\n",
       "      <td>8.0</td>\n",
       "      <td>3.5</td>\n",
       "    </tr>\n",
       "    <tr>\n",
       "      <th>3</th>\n",
       "      <td>AD</td>\n",
       "      <td>Alderwood</td>\n",
       "      <td>NL</td>\n",
       "      <td>10-8:30</td>\n",
       "      <td>10:00 - 6:00</td>\n",
       "      <td>10:00 - 6:00</td>\n",
       "      <td>12:30-8:30</td>\n",
       "      <td>10:00 - 6:00</td>\n",
       "      <td>9:00 - 5:00</td>\n",
       "      <td>NaN</td>\n",
       "      <td>10.5</td>\n",
       "      <td>8.0</td>\n",
       "      <td>8.0</td>\n",
       "      <td>8.0</td>\n",
       "      <td>8.0</td>\n",
       "      <td>8.0</td>\n",
       "      <td>NaN</td>\n",
       "    </tr>\n",
       "    <tr>\n",
       "      <th>4</th>\n",
       "      <td>AP</td>\n",
       "      <td>Amesbury Park</td>\n",
       "      <td>NL</td>\n",
       "      <td>Closed</td>\n",
       "      <td>12:30-8:30</td>\n",
       "      <td>10:00 - 6:00</td>\n",
       "      <td>12:30-8:30</td>\n",
       "      <td>10:00 - 6:00</td>\n",
       "      <td>9:00 - 5:00</td>\n",
       "      <td>NaN</td>\n",
       "      <td>NaN</td>\n",
       "      <td>8.0</td>\n",
       "      <td>8.0</td>\n",
       "      <td>8.0</td>\n",
       "      <td>8.0</td>\n",
       "      <td>8.0</td>\n",
       "      <td>NaN</td>\n",
       "    </tr>\n",
       "  </tbody>\n",
       "</table>\n",
       "</div>"
      ],
      "text/plain": [
       "    ID           Branch Tier MondayOH     TuesdayOH   WednesdayOH  ThursdayOH  \\\n",
       "0   AG        Agincourt   DL   9-8:30        9-8:30        9-8:30      9-8:30   \n",
       "1  ACD  Albert Campbell   DL   9-8:30        9-8:30        9-8:30      9-8:30   \n",
       "2   AB           Albion   DL   9-8:30        9-8:30        9-8:30      9-8:30   \n",
       "3   AD        Alderwood   NL  10-8:30  10:00 - 6:00  10:00 - 6:00  12:30-8:30   \n",
       "4   AP    Amesbury Park   NL   Closed    12:30-8:30  10:00 - 6:00  12:30-8:30   \n",
       "\n",
       "       FridayOH   SaturdayOH SundayOH  MondayDH  TuesdayDH  WednesdayDH  \\\n",
       "0        9-8:30  9:00 - 5:00   1:30-5      11.5       11.5         11.5   \n",
       "1        9-8:30  9:00 - 5:00   1:30-5      11.5       11.5         11.5   \n",
       "2        9-8:30  9:00 - 5:00   1:30-5      11.5       11.5         11.5   \n",
       "3  10:00 - 6:00  9:00 - 5:00      NaN      10.5        8.0          8.0   \n",
       "4  10:00 - 6:00  9:00 - 5:00      NaN       NaN        8.0          8.0   \n",
       "\n",
       "   ThursdayDH  FridayDH  SaturdayDH  SundayDH  \n",
       "0        11.5      11.5         8.0       3.5  \n",
       "1        11.5      11.5         8.0       3.5  \n",
       "2        11.5      11.5         8.0       3.5  \n",
       "3         8.0       8.0         8.0       NaN  \n",
       "4         8.0       8.0         8.0       NaN  "
      ]
     },
     "execution_count": 2,
     "metadata": {},
     "output_type": "execute_result"
    }
   ],
   "source": [
    "Hours_of_Operation.head()"
   ]
  },
  {
   "cell_type": "code",
   "execution_count": 3,
   "metadata": {},
   "outputs": [
    {
     "data": {
      "text/plain": [
       "Index(['ID', 'Branch', 'Tier', 'MondayOH', 'TuesdayOH', 'WednesdayOH',\n",
       "       'ThursdayOH', 'FridayOH', 'SaturdayOH', 'SundayOH', 'MondayDH',\n",
       "       'TuesdayDH', 'WednesdayDH', 'ThursdayDH', 'FridayDH', 'SaturdayDH',\n",
       "       'SundayDH'],\n",
       "      dtype='object')"
      ]
     },
     "execution_count": 3,
     "metadata": {},
     "output_type": "execute_result"
    }
   ],
   "source": [
    "Hours_of_Operation.keys()"
   ]
  },
  {
   "cell_type": "code",
   "execution_count": 4,
   "metadata": {},
   "outputs": [],
   "source": [
    "columnnames = ['MondayOH', 'TuesdayOH', 'WednesdayOH',\n",
    "       'ThursdayOH', 'FridayOH', 'SaturdayOH', 'SundayOH', 'MondayDH',\n",
    "       'TuesdayDH', 'WednesdayDH', 'ThursdayDH', 'FridayDH', 'SaturdayDH',\n",
    "       'SundayDH']"
   ]
  },
  {
   "cell_type": "code",
   "execution_count": 5,
   "metadata": {},
   "outputs": [],
   "source": [
    "day = [columnname[:len(columnname)-2] for columnname in columnnames]\n",
    "ohdh = [columnname[len(columnname)-2:] for columnname in columnnames]"
   ]
  },
  {
   "cell_type": "code",
   "execution_count": 6,
   "metadata": {},
   "outputs": [
    {
     "data": {
      "text/plain": [
       "['Friday', 'Monday', 'Saturday', 'Sunday', 'Thursday', 'Tuesday', 'Wednesday']"
      ]
     },
     "execution_count": 6,
     "metadata": {},
     "output_type": "execute_result"
    }
   ],
   "source": [
    "day = list(set(day))\n",
    "day.sort()\n",
    "day"
   ]
  },
  {
   "cell_type": "code",
   "execution_count": 7,
   "metadata": {},
   "outputs": [
    {
     "data": {
      "text/plain": [
       "['DH', 'OH']"
      ]
     },
     "execution_count": 7,
     "metadata": {},
     "output_type": "execute_result"
    }
   ],
   "source": [
    "ohdh = list(set(ohdh))\n",
    "ohdh.sort()\n",
    "ohdh"
   ]
  },
  {
   "cell_type": "code",
   "execution_count": 8,
   "metadata": {},
   "outputs": [],
   "source": [
    "hoursofoperation = []\n",
    "for d in range(len(day)):\n",
    "    for x, y in Hours_of_Operation.iterrows():\n",
    "        hoursofoperation.append({'branch_id':y['ID'],'day':day[d],'hours':y[day[d]+ohdh[1]],'duration':y[day[d]+ohdh[0]]})\n",
    "    "
   ]
  },
  {
   "cell_type": "code",
   "execution_count": 9,
   "metadata": {},
   "outputs": [
    {
     "data": {
      "text/html": [
       "<div>\n",
       "<style scoped>\n",
       "    .dataframe tbody tr th:only-of-type {\n",
       "        vertical-align: middle;\n",
       "    }\n",
       "\n",
       "    .dataframe tbody tr th {\n",
       "        vertical-align: top;\n",
       "    }\n",
       "\n",
       "    .dataframe thead th {\n",
       "        text-align: right;\n",
       "    }\n",
       "</style>\n",
       "<table border=\"1\" class=\"dataframe\">\n",
       "  <thead>\n",
       "    <tr style=\"text-align: right;\">\n",
       "      <th></th>\n",
       "      <th>branch_id</th>\n",
       "      <th>day</th>\n",
       "      <th>duration</th>\n",
       "      <th>hours</th>\n",
       "    </tr>\n",
       "  </thead>\n",
       "  <tbody>\n",
       "    <tr>\n",
       "      <th>0</th>\n",
       "      <td>AG</td>\n",
       "      <td>Friday</td>\n",
       "      <td>11.5</td>\n",
       "      <td>9-8:30</td>\n",
       "    </tr>\n",
       "    <tr>\n",
       "      <th>1</th>\n",
       "      <td>ACD</td>\n",
       "      <td>Friday</td>\n",
       "      <td>11.5</td>\n",
       "      <td>9-8:30</td>\n",
       "    </tr>\n",
       "    <tr>\n",
       "      <th>2</th>\n",
       "      <td>AB</td>\n",
       "      <td>Friday</td>\n",
       "      <td>11.5</td>\n",
       "      <td>9-8:30</td>\n",
       "    </tr>\n",
       "    <tr>\n",
       "      <th>3</th>\n",
       "      <td>AD</td>\n",
       "      <td>Friday</td>\n",
       "      <td>8.0</td>\n",
       "      <td>10:00 - 6:00</td>\n",
       "    </tr>\n",
       "    <tr>\n",
       "      <th>4</th>\n",
       "      <td>AP</td>\n",
       "      <td>Friday</td>\n",
       "      <td>8.0</td>\n",
       "      <td>10:00 - 6:00</td>\n",
       "    </tr>\n",
       "  </tbody>\n",
       "</table>\n",
       "</div>"
      ],
      "text/plain": [
       "  branch_id     day  duration         hours\n",
       "0        AG  Friday      11.5        9-8:30\n",
       "1       ACD  Friday      11.5        9-8:30\n",
       "2        AB  Friday      11.5        9-8:30\n",
       "3        AD  Friday       8.0  10:00 - 6:00\n",
       "4        AP  Friday       8.0  10:00 - 6:00"
      ]
     },
     "execution_count": 9,
     "metadata": {},
     "output_type": "execute_result"
    }
   ],
   "source": [
    "hoursofoperation = pd.DataFrame(hoursofoperation)\n",
    "hoursofoperation.head()"
   ]
  },
  {
   "cell_type": "code",
   "execution_count": null,
   "metadata": {},
   "outputs": [],
   "source": []
  }
 ],
 "metadata": {
  "kernelspec": {
   "display_name": "Python 3",
   "language": "python",
   "name": "python3"
  },
  "language_info": {
   "codemirror_mode": {
    "name": "ipython",
    "version": 3
   },
   "file_extension": ".py",
   "mimetype": "text/x-python",
   "name": "python",
   "nbconvert_exporter": "python",
   "pygments_lexer": "ipython3",
   "version": "3.7.3"
  }
 },
 "nbformat": 4,
 "nbformat_minor": 2
}
