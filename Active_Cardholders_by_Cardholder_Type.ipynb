{
 "cells": [
  {
   "cell_type": "code",
   "execution_count": 1,
   "metadata": {},
   "outputs": [],
   "source": [
    "import pandas as pd"
   ]
  },
  {
   "cell_type": "code",
   "execution_count": 2,
   "metadata": {},
   "outputs": [],
   "source": [
    "Active_Cardholders_by_Cardholder_Type = pd.read_csv(\"resources/Active_Cardholders_by_Cardholder_Type.csv\")\n",
    "Cardholders=['id','year','age_group','value']"
   ]
  },
  {
   "cell_type": "code",
   "execution_count": 3,
   "metadata": {},
   "outputs": [
    {
     "data": {
      "text/plain": [
       "Index(['ID', 'Branch Name', 'Tier', 'Child2017', 'Teen2017', 'Adult2017',\n",
       "       'Child2016', 'Teen2016', 'Adult2016', 'Child2015', 'Teen2015',\n",
       "       'Adult2015', 'Child2014', 'Teen2014', 'Adult2014', 'Child2013',\n",
       "       'Teen2013', 'Adult2013', 'Child2012', 'Teen2012', 'Adult2012',\n",
       "       'Child2011', 'Teen2011', 'Adult2011', 'Child2010', 'Teen2010',\n",
       "       'Adult2010'],\n",
       "      dtype='object')"
      ]
     },
     "execution_count": 3,
     "metadata": {},
     "output_type": "execute_result"
    }
   ],
   "source": [
    "Active_Cardholders_by_Cardholder_Type.keys()"
   ]
  },
  {
   "cell_type": "code",
   "execution_count": 4,
   "metadata": {},
   "outputs": [
    {
     "data": {
      "text/html": [
       "<div>\n",
       "<style scoped>\n",
       "    .dataframe tbody tr th:only-of-type {\n",
       "        vertical-align: middle;\n",
       "    }\n",
       "\n",
       "    .dataframe tbody tr th {\n",
       "        vertical-align: top;\n",
       "    }\n",
       "\n",
       "    .dataframe thead th {\n",
       "        text-align: right;\n",
       "    }\n",
       "</style>\n",
       "<table border=\"1\" class=\"dataframe\">\n",
       "  <thead>\n",
       "    <tr style=\"text-align: right;\">\n",
       "      <th></th>\n",
       "      <th>ID</th>\n",
       "      <th>Branch Name</th>\n",
       "      <th>Tier</th>\n",
       "      <th>Child2017</th>\n",
       "      <th>Teen2017</th>\n",
       "      <th>Adult2017</th>\n",
       "      <th>Child2016</th>\n",
       "      <th>Teen2016</th>\n",
       "      <th>Adult2016</th>\n",
       "      <th>Child2015</th>\n",
       "      <th>...</th>\n",
       "      <th>Adult2013</th>\n",
       "      <th>Child2012</th>\n",
       "      <th>Teen2012</th>\n",
       "      <th>Adult2012</th>\n",
       "      <th>Child2011</th>\n",
       "      <th>Teen2011</th>\n",
       "      <th>Adult2011</th>\n",
       "      <th>Child2010</th>\n",
       "      <th>Teen2010</th>\n",
       "      <th>Adult2010</th>\n",
       "    </tr>\n",
       "  </thead>\n",
       "  <tbody>\n",
       "    <tr>\n",
       "      <th>0</th>\n",
       "      <td>AG</td>\n",
       "      <td>Agincourt</td>\n",
       "      <td>DL</td>\n",
       "      <td>2505.0</td>\n",
       "      <td>1016.0</td>\n",
       "      <td>10372</td>\n",
       "      <td>2621.0</td>\n",
       "      <td>1190.0</td>\n",
       "      <td>11164</td>\n",
       "      <td>2939.0</td>\n",
       "      <td>...</td>\n",
       "      <td>13965.0</td>\n",
       "      <td>3466.0</td>\n",
       "      <td>1827.0</td>\n",
       "      <td>14367.0</td>\n",
       "      <td>3448.0</td>\n",
       "      <td>1819.0</td>\n",
       "      <td>13888.0</td>\n",
       "      <td>4359.0</td>\n",
       "      <td>2810.0</td>\n",
       "      <td>17792.0</td>\n",
       "    </tr>\n",
       "    <tr>\n",
       "      <th>1</th>\n",
       "      <td>ACD</td>\n",
       "      <td>Albert Campbell</td>\n",
       "      <td>DL</td>\n",
       "      <td>1909.0</td>\n",
       "      <td>721.0</td>\n",
       "      <td>5229</td>\n",
       "      <td>1877.0</td>\n",
       "      <td>762.0</td>\n",
       "      <td>5436</td>\n",
       "      <td>2031.0</td>\n",
       "      <td>...</td>\n",
       "      <td>6236.0</td>\n",
       "      <td>2194.0</td>\n",
       "      <td>996.0</td>\n",
       "      <td>6598.0</td>\n",
       "      <td>2256.0</td>\n",
       "      <td>951.0</td>\n",
       "      <td>6170.0</td>\n",
       "      <td>2807.0</td>\n",
       "      <td>1469.0</td>\n",
       "      <td>8115.0</td>\n",
       "    </tr>\n",
       "    <tr>\n",
       "      <th>2</th>\n",
       "      <td>AB</td>\n",
       "      <td>Albion</td>\n",
       "      <td>DL</td>\n",
       "      <td>4356.0</td>\n",
       "      <td>2190.0</td>\n",
       "      <td>10894</td>\n",
       "      <td>4028.0</td>\n",
       "      <td>1589.0</td>\n",
       "      <td>9746</td>\n",
       "      <td>4302.0</td>\n",
       "      <td>...</td>\n",
       "      <td>11369.0</td>\n",
       "      <td>5481.0</td>\n",
       "      <td>2178.0</td>\n",
       "      <td>12450.0</td>\n",
       "      <td>5472.0</td>\n",
       "      <td>2129.0</td>\n",
       "      <td>11188.0</td>\n",
       "      <td>6564.0</td>\n",
       "      <td>2968.0</td>\n",
       "      <td>15065.0</td>\n",
       "    </tr>\n",
       "    <tr>\n",
       "      <th>3</th>\n",
       "      <td>AD</td>\n",
       "      <td>Alderwood</td>\n",
       "      <td>NL</td>\n",
       "      <td>936.0</td>\n",
       "      <td>138.0</td>\n",
       "      <td>2105</td>\n",
       "      <td>940.0</td>\n",
       "      <td>128.0</td>\n",
       "      <td>2048</td>\n",
       "      <td>911.0</td>\n",
       "      <td>...</td>\n",
       "      <td>2130.0</td>\n",
       "      <td>991.0</td>\n",
       "      <td>202.0</td>\n",
       "      <td>2069.0</td>\n",
       "      <td>975.0</td>\n",
       "      <td>185.0</td>\n",
       "      <td>2004.0</td>\n",
       "      <td>1263.0</td>\n",
       "      <td>258.0</td>\n",
       "      <td>2497.0</td>\n",
       "    </tr>\n",
       "    <tr>\n",
       "      <th>4</th>\n",
       "      <td>AP</td>\n",
       "      <td>Amesbury Park</td>\n",
       "      <td>NL</td>\n",
       "      <td>789.0</td>\n",
       "      <td>272.0</td>\n",
       "      <td>1895</td>\n",
       "      <td>908.0</td>\n",
       "      <td>294.0</td>\n",
       "      <td>2342</td>\n",
       "      <td>956.0</td>\n",
       "      <td>...</td>\n",
       "      <td>2497.0</td>\n",
       "      <td>1131.0</td>\n",
       "      <td>454.0</td>\n",
       "      <td>2734.0</td>\n",
       "      <td>1143.0</td>\n",
       "      <td>434.0</td>\n",
       "      <td>2424.0</td>\n",
       "      <td>1424.0</td>\n",
       "      <td>549.0</td>\n",
       "      <td>3101.0</td>\n",
       "    </tr>\n",
       "  </tbody>\n",
       "</table>\n",
       "<p>5 rows × 27 columns</p>\n",
       "</div>"
      ],
      "text/plain": [
       "    ID      Branch Name Tier  Child2017  Teen2017  Adult2017  Child2016  \\\n",
       "0   AG        Agincourt   DL     2505.0    1016.0      10372     2621.0   \n",
       "1  ACD  Albert Campbell   DL     1909.0     721.0       5229     1877.0   \n",
       "2   AB           Albion   DL     4356.0    2190.0      10894     4028.0   \n",
       "3   AD        Alderwood   NL      936.0     138.0       2105      940.0   \n",
       "4   AP    Amesbury Park   NL      789.0     272.0       1895      908.0   \n",
       "\n",
       "   Teen2016  Adult2016  Child2015  ...  Adult2013  Child2012  Teen2012  \\\n",
       "0    1190.0      11164     2939.0  ...    13965.0     3466.0    1827.0   \n",
       "1     762.0       5436     2031.0  ...     6236.0     2194.0     996.0   \n",
       "2    1589.0       9746     4302.0  ...    11369.0     5481.0    2178.0   \n",
       "3     128.0       2048      911.0  ...     2130.0      991.0     202.0   \n",
       "4     294.0       2342      956.0  ...     2497.0     1131.0     454.0   \n",
       "\n",
       "   Adult2012  Child2011  Teen2011  Adult2011  Child2010  Teen2010  Adult2010  \n",
       "0    14367.0     3448.0    1819.0    13888.0     4359.0    2810.0    17792.0  \n",
       "1     6598.0     2256.0     951.0     6170.0     2807.0    1469.0     8115.0  \n",
       "2    12450.0     5472.0    2129.0    11188.0     6564.0    2968.0    15065.0  \n",
       "3     2069.0      975.0     185.0     2004.0     1263.0     258.0     2497.0  \n",
       "4     2734.0     1143.0     434.0     2424.0     1424.0     549.0     3101.0  \n",
       "\n",
       "[5 rows x 27 columns]"
      ]
     },
     "execution_count": 4,
     "metadata": {},
     "output_type": "execute_result"
    }
   ],
   "source": [
    "Active_Cardholders_by_Cardholder_Type.head()"
   ]
  },
  {
   "cell_type": "code",
   "execution_count": 5,
   "metadata": {},
   "outputs": [],
   "source": [
    "columnnames = ['Child2017', 'Teen2017', 'Adult2017',\n",
    "       'Child2016', 'Teen2016', 'Adult2016', 'Child2015', 'Teen2015',\n",
    "       'Adult2015', 'Child2014', 'Teen2014', 'Adult2014', 'Child2013',\n",
    "       'Teen2013', 'Adult2013', 'Child2012', 'Teen2012', 'Adult2012',\n",
    "       'Child2011', 'Teen2011', 'Adult2011', 'Child2010', 'Teen2010',\n",
    "       'Adult2010']"
   ]
  },
  {
   "cell_type": "code",
   "execution_count": 6,
   "metadata": {},
   "outputs": [],
   "source": [
    "age_group = [columnname[:len(columnname)-4] for columnname in columnnames]\n",
    "year = [columnname[len(columnname)-4:] for columnname in columnnames]"
   ]
  },
  {
   "cell_type": "code",
   "execution_count": 7,
   "metadata": {},
   "outputs": [
    {
     "data": {
      "text/plain": [
       "['Adult', 'Child', 'Teen']"
      ]
     },
     "execution_count": 7,
     "metadata": {},
     "output_type": "execute_result"
    }
   ],
   "source": [
    "age_group = list(set(age_group))\n",
    "age_group.sort()\n",
    "age_group"
   ]
  },
  {
   "cell_type": "code",
   "execution_count": 8,
   "metadata": {},
   "outputs": [
    {
     "data": {
      "text/plain": [
       "['2010', '2011', '2012', '2013', '2014', '2015', '2016', '2017']"
      ]
     },
     "execution_count": 8,
     "metadata": {},
     "output_type": "execute_result"
    }
   ],
   "source": [
    "year = list(set(year))\n",
    "year.sort()\n",
    "year"
   ]
  },
  {
   "cell_type": "code",
   "execution_count": 9,
   "metadata": {},
   "outputs": [],
   "source": [
    "cardholders = []\n",
    "for a in range(len(age_group)):\n",
    "    for e in range(len(year)):\n",
    "        for x, y in Active_Cardholders_by_Cardholder_Type.iterrows():\n",
    "#             print(f\"\\t{y[age_group[a]+year[e]]}\")\n",
    "            cardholders.append({'branch_id':y['ID'],'age_group_id':a+1,'year':year[e],'value':y[age_group[a]+year[e]]})"
   ]
  },
  {
   "cell_type": "code",
   "execution_count": 10,
   "metadata": {},
   "outputs": [
    {
     "data": {
      "text/html": [
       "<div>\n",
       "<style scoped>\n",
       "    .dataframe tbody tr th:only-of-type {\n",
       "        vertical-align: middle;\n",
       "    }\n",
       "\n",
       "    .dataframe tbody tr th {\n",
       "        vertical-align: top;\n",
       "    }\n",
       "\n",
       "    .dataframe thead th {\n",
       "        text-align: right;\n",
       "    }\n",
       "</style>\n",
       "<table border=\"1\" class=\"dataframe\">\n",
       "  <thead>\n",
       "    <tr style=\"text-align: right;\">\n",
       "      <th></th>\n",
       "      <th>age_group_id</th>\n",
       "      <th>branch_id</th>\n",
       "      <th>value</th>\n",
       "      <th>year</th>\n",
       "    </tr>\n",
       "  </thead>\n",
       "  <tbody>\n",
       "    <tr>\n",
       "      <th>0</th>\n",
       "      <td>1</td>\n",
       "      <td>AG</td>\n",
       "      <td>17792.0</td>\n",
       "      <td>2010</td>\n",
       "    </tr>\n",
       "    <tr>\n",
       "      <th>1</th>\n",
       "      <td>1</td>\n",
       "      <td>ACD</td>\n",
       "      <td>8115.0</td>\n",
       "      <td>2010</td>\n",
       "    </tr>\n",
       "    <tr>\n",
       "      <th>2</th>\n",
       "      <td>1</td>\n",
       "      <td>AB</td>\n",
       "      <td>15065.0</td>\n",
       "      <td>2010</td>\n",
       "    </tr>\n",
       "    <tr>\n",
       "      <th>3</th>\n",
       "      <td>1</td>\n",
       "      <td>AD</td>\n",
       "      <td>2497.0</td>\n",
       "      <td>2010</td>\n",
       "    </tr>\n",
       "    <tr>\n",
       "      <th>4</th>\n",
       "      <td>1</td>\n",
       "      <td>AP</td>\n",
       "      <td>3101.0</td>\n",
       "      <td>2010</td>\n",
       "    </tr>\n",
       "  </tbody>\n",
       "</table>\n",
       "</div>"
      ],
      "text/plain": [
       "   age_group_id branch_id    value  year\n",
       "0             1        AG  17792.0  2010\n",
       "1             1       ACD   8115.0  2010\n",
       "2             1        AB  15065.0  2010\n",
       "3             1        AD   2497.0  2010\n",
       "4             1        AP   3101.0  2010"
      ]
     },
     "execution_count": 10,
     "metadata": {},
     "output_type": "execute_result"
    }
   ],
   "source": [
    "cardholders_df = pd.DataFrame(cardholders)\n",
    "cardholders_df.head()"
   ]
  },
  {
   "cell_type": "code",
   "execution_count": null,
   "metadata": {},
   "outputs": [],
   "source": []
  },
  {
   "cell_type": "code",
   "execution_count": 11,
   "metadata": {},
   "outputs": [],
   "source": [
    "# df.fillna(0)"
   ]
  }
 ],
 "metadata": {
  "kernelspec": {
   "display_name": "Python 3",
   "language": "python",
   "name": "python3"
  },
  "language_info": {
   "codemirror_mode": {
    "name": "ipython",
    "version": 3
   },
   "file_extension": ".py",
   "mimetype": "text/x-python",
   "name": "python",
   "nbconvert_exporter": "python",
   "pygments_lexer": "ipython3",
   "version": "3.7.3"
  }
 },
 "nbformat": 4,
 "nbformat_minor": 2
}
